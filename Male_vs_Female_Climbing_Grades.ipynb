{
  "nbformat": 4,
  "nbformat_minor": 0,
  "metadata": {
    "colab": {
      "name": "Male vs. Female Climbing Grades.ipynb",
      "version": "0.3.2",
      "provenance": [],
      "include_colab_link": true
    },
    "kernelspec": {
      "name": "python3",
      "display_name": "Python 3"
    },
    "accelerator": "GPU"
  },
  "cells": [
    {
      "cell_type": "markdown",
      "metadata": {
        "id": "view-in-github",
        "colab_type": "text"
      },
      "source": [
        "<a href=\"https://colab.research.google.com/github/Colley-K/eda_projects/blob/master/Male_vs_Female_Climbing_Grades.ipynb\" target=\"_parent\"><img src=\"https://colab.research.google.com/assets/colab-badge.svg\" alt=\"Open In Colab\"/></a>"
      ]
    },
    {
      "cell_type": "markdown",
      "metadata": {
        "id": "Ln1v2le1CUWM",
        "colab_type": "text"
      },
      "source": [
        "# Are Males or Females Climbing Harder Rock Climbing Grades?\n",
        "\n",
        "## Background \n",
        "In the sport of rock climbing, males have traditionally been the ones to push the sport to higher grades. However, as of late, females have been pushing the boundaries of possible rock climbs. In this analysis, I will take a current log of 4 million rock climbs and compare the average of female rock climbing grades to that of males. Using a hypothesis test, I will test whether or not these averages are stastically the same, or if they are in fact different.\n",
        "\n",
        "## Data\n",
        "Imported from Kaggle, the 8a.nu climbing data set contains 4 tables, and is filled with 4 million entries of different rock climbs from its' users. All entries are user recorded, and prone to user error or exageration so this analysis must be taken with a little skepticism. I will clean the data to try to filter out some of the outstandingly obvious falsified entries.\n",
        "\n",
        "## Importing from Kaggle\n",
        "Using the Kaggle API, this dataset was downloaded as an SQLite database, transformed into a Pandas dataframe, and then exported as a CSV\n",
        "\n",
        ">Click [here](https://colab.research.google.com/drive/1S4io5Nvz0lcnri_Lz9Mpa_TwLNeoSzGb#scrollTo=0BhPF3cSDvYk) to view the import notebook\n",
        "\n",
        ">Click [here](https://www.kaggle.com/dcohen21/8anu-climbing-logbook) to view the data set on Kaggle \n",
        "\n",
        "_____"
      ]
    },
    {
      "cell_type": "markdown",
      "metadata": {
        "id": "zHtAiYZGpKIX",
        "colab_type": "text"
      },
      "source": [
        "## Initial Setup"
      ]
    },
    {
      "cell_type": "code",
      "metadata": {
        "id": "hXooTdqBorMC",
        "colab_type": "code",
        "colab": {
          "base_uri": "https://localhost:8080/",
          "height": 442
        },
        "outputId": "a8bd885d-cb52-4cdd-a950-173cfee21a1a"
      },
      "source": [
        "#Colab stuffs:\n",
        "\n",
        "#get a fast operator system\n",
        "!nvidia-smi\n",
        "\n",
        "#mount google drive\n",
        "from google.colab import drive\n",
        "drive.mount('/content/drive')#click on the link it provides and copy and paste that code into the authorization area\n",
        "!ls \"/content/drive/My Drive\" #shows whats in your drive once its mounted\n",
        "\n",
        "#access the OS system to work with current directories:\n",
        "import os \n",
        "os.getcwd() \n",
        "\n",
        "#Imports\n",
        "import numpy as np \n",
        "import pandas as pd \n",
        "import matplotlib.pyplot as plt\n",
        "import seaborn as sns\n",
        "from scipy.stats import ttest_ind\n",
        "from scipy import stats\n",
        "from statsmodels.stats import weightstats as stests\n",
        "from scipy.stats import ttest_1samp\n",
        "import math\n"
      ],
      "execution_count": 2,
      "outputs": [
        {
          "output_type": "stream",
          "text": [
            "Tue Jun 18 19:01:12 2019       \n",
            "+-----------------------------------------------------------------------------+\n",
            "| NVIDIA-SMI 418.67       Driver Version: 410.79       CUDA Version: 10.0     |\n",
            "|-------------------------------+----------------------+----------------------+\n",
            "| GPU  Name        Persistence-M| Bus-Id        Disp.A | Volatile Uncorr. ECC |\n",
            "| Fan  Temp  Perf  Pwr:Usage/Cap|         Memory-Usage | GPU-Util  Compute M. |\n",
            "|===============================+======================+======================|\n",
            "|   0  Tesla T4            Off  | 00000000:00:04.0 Off |                    0 |\n",
            "| N/A   48C    P8    15W /  70W |      0MiB / 15079MiB |      0%      Default |\n",
            "+-------------------------------+----------------------+----------------------+\n",
            "                                                                               \n",
            "+-----------------------------------------------------------------------------+\n",
            "| Processes:                                                       GPU Memory |\n",
            "|  GPU       PID   Type   Process name                             Usage      |\n",
            "|=============================================================================|\n",
            "|  No running processes found                                                 |\n",
            "+-----------------------------------------------------------------------------+\n",
            "Drive already mounted at /content/drive; to attempt to forcibly remount, call drive.mount(\"/content/drive\", force_remount=True).\n",
            "'Adventure Pictures'    Inferential_Statistics_Notes.gdoc\n",
            "'Adventure Planning'    Life_stuffs\n",
            " Capstone\t       'Recommendation systems Notes.gdoc'\n",
            " Career\t\t       'Springboard Assignments'\n",
            "'Colab Notebooks'      'Surprise Rec Research.gdoc'\n",
            "'Data Wrangling.gdoc'   Taxes\n",
            "'Google Photos'\n"
          ],
          "name": "stdout"
        }
      ]
    },
    {
      "cell_type": "markdown",
      "metadata": {
        "id": "ftfrNKj0p4pY",
        "colab_type": "text"
      },
      "source": [
        "## Import CSV Files"
      ]
    },
    {
      "cell_type": "code",
      "metadata": {
        "id": "zqdLTKWKp9nT",
        "colab_type": "code",
        "colab": {}
      },
      "source": [
        "#Turn the CSV files into data frames\n",
        "\n",
        "ascent = pd.read_csv('drive/My Drive/Capstone/ascent.csv', low_memory=False) \n",
        "\n",
        "user = pd.read_csv('drive/My Drive/Capstone/data/user.csv', low_memory=False) \n",
        "\n",
        "grade = pd.read_csv('drive/My Drive/Capstone/data/grade.csv', low_memory=False) "
      ],
      "execution_count": 0,
      "outputs": []
    },
    {
      "cell_type": "markdown",
      "metadata": {
        "id": "ugqP_i_krDtB",
        "colab_type": "text"
      },
      "source": [
        "## Quick EDA"
      ]
    },
    {
      "cell_type": "code",
      "metadata": {
        "id": "ebATaBNurHI_",
        "colab_type": "code",
        "colab": {
          "base_uri": "https://localhost:8080/",
          "height": 326
        },
        "outputId": "93d3e13d-4915-4129-9c7c-bd86545defcb"
      },
      "source": [
        "user.head()\n",
        "grade.head()\n",
        "ascent.head()"
      ],
      "execution_count": 4,
      "outputs": [
        {
          "output_type": "execute_result",
          "data": {
            "text/html": [
              "<div>\n",
              "<style scoped>\n",
              "    .dataframe tbody tr th:only-of-type {\n",
              "        vertical-align: middle;\n",
              "    }\n",
              "\n",
              "    .dataframe tbody tr th {\n",
              "        vertical-align: top;\n",
              "    }\n",
              "\n",
              "    .dataframe thead th {\n",
              "        text-align: right;\n",
              "    }\n",
              "</style>\n",
              "<table border=\"1\" class=\"dataframe\">\n",
              "  <thead>\n",
              "    <tr style=\"text-align: right;\">\n",
              "      <th></th>\n",
              "      <th>id</th>\n",
              "      <th>user_id</th>\n",
              "      <th>grade_id</th>\n",
              "      <th>notes</th>\n",
              "      <th>raw_notes</th>\n",
              "      <th>method_id</th>\n",
              "      <th>climb_type</th>\n",
              "      <th>total_score</th>\n",
              "      <th>date</th>\n",
              "      <th>year</th>\n",
              "      <th>last_year</th>\n",
              "      <th>rec_date</th>\n",
              "      <th>project_ascent_date</th>\n",
              "      <th>name</th>\n",
              "      <th>crag_id</th>\n",
              "      <th>crag</th>\n",
              "      <th>sector_id</th>\n",
              "      <th>sector</th>\n",
              "      <th>country</th>\n",
              "      <th>comment</th>\n",
              "      <th>rating</th>\n",
              "      <th>description</th>\n",
              "      <th>yellow_id</th>\n",
              "      <th>climb_try</th>\n",
              "      <th>repeat</th>\n",
              "      <th>exclude_from_ranking</th>\n",
              "      <th>user_recommended</th>\n",
              "      <th>chipped</th>\n",
              "    </tr>\n",
              "  </thead>\n",
              "  <tbody>\n",
              "    <tr>\n",
              "      <th>0</th>\n",
              "      <td>2</td>\n",
              "      <td>1</td>\n",
              "      <td>36.0</td>\n",
              "      <td>NaN</td>\n",
              "      <td>0</td>\n",
              "      <td>3</td>\n",
              "      <td>0</td>\n",
              "      <td>545</td>\n",
              "      <td>918342000</td>\n",
              "      <td>1999.0</td>\n",
              "      <td>0.0</td>\n",
              "      <td>1.107126e+09</td>\n",
              "      <td>0.0</td>\n",
              "      <td>The King And I</td>\n",
              "      <td>16596.0</td>\n",
              "      <td>Railay</td>\n",
              "      <td>61.0</td>\n",
              "      <td>Dum's kitchen</td>\n",
              "      <td>THA</td>\n",
              "      <td>Thailand\\n</td>\n",
              "      <td>0.0</td>\n",
              "      <td>NaN</td>\n",
              "      <td>255.0</td>\n",
              "      <td>0.0</td>\n",
              "      <td>0.0</td>\n",
              "      <td>0.0</td>\n",
              "      <td>0.0</td>\n",
              "      <td>0.0</td>\n",
              "    </tr>\n",
              "    <tr>\n",
              "      <th>1</th>\n",
              "      <td>3</td>\n",
              "      <td>1</td>\n",
              "      <td>36.0</td>\n",
              "      <td>NaN</td>\n",
              "      <td>0</td>\n",
              "      <td>3</td>\n",
              "      <td>0</td>\n",
              "      <td>545</td>\n",
              "      <td>925509600</td>\n",
              "      <td>1999.0</td>\n",
              "      <td>0.0</td>\n",
              "      <td>1.107126e+09</td>\n",
              "      <td>0.0</td>\n",
              "      <td>vet ej</td>\n",
              "      <td>0.0</td>\n",
              "      <td>Nya berg - segl.</td>\n",
              "      <td>0.0</td>\n",
              "      <td>NaN</td>\n",
              "      <td>NaN</td>\n",
              "      <td>\\n</td>\n",
              "      <td>0.0</td>\n",
              "      <td>NaN</td>\n",
              "      <td>0.0</td>\n",
              "      <td>0.0</td>\n",
              "      <td>0.0</td>\n",
              "      <td>0.0</td>\n",
              "      <td>0.0</td>\n",
              "      <td>0.0</td>\n",
              "    </tr>\n",
              "    <tr>\n",
              "      <th>2</th>\n",
              "      <td>4</td>\n",
              "      <td>1</td>\n",
              "      <td>36.0</td>\n",
              "      <td>NaN</td>\n",
              "      <td>0</td>\n",
              "      <td>3</td>\n",
              "      <td>0</td>\n",
              "      <td>545</td>\n",
              "      <td>933026400</td>\n",
              "      <td>1999.0</td>\n",
              "      <td>0.0</td>\n",
              "      <td>1.107126e+09</td>\n",
              "      <td>0.0</td>\n",
              "      <td>Mr Big</td>\n",
              "      <td>209.0</td>\n",
              "      <td>Sjöända</td>\n",
              "      <td>371.0</td>\n",
              "      <td>Huvudväggen</td>\n",
              "      <td>SWE</td>\n",
              "      <td>\\n</td>\n",
              "      <td>0.0</td>\n",
              "      <td>NaN</td>\n",
              "      <td>255.0</td>\n",
              "      <td>0.0</td>\n",
              "      <td>0.0</td>\n",
              "      <td>0.0</td>\n",
              "      <td>0.0</td>\n",
              "      <td>0.0</td>\n",
              "    </tr>\n",
              "    <tr>\n",
              "      <th>3</th>\n",
              "      <td>5</td>\n",
              "      <td>1</td>\n",
              "      <td>36.0</td>\n",
              "      <td>NaN</td>\n",
              "      <td>0</td>\n",
              "      <td>3</td>\n",
              "      <td>0</td>\n",
              "      <td>545</td>\n",
              "      <td>933026400</td>\n",
              "      <td>1999.0</td>\n",
              "      <td>0.0</td>\n",
              "      <td>1.107126e+09</td>\n",
              "      <td>0.0</td>\n",
              "      <td>Tak ska du ha</td>\n",
              "      <td>209.0</td>\n",
              "      <td>Sjöända</td>\n",
              "      <td>371.0</td>\n",
              "      <td>Huvudväggen</td>\n",
              "      <td>SWE</td>\n",
              "      <td>\\n</td>\n",
              "      <td>0.0</td>\n",
              "      <td>NaN</td>\n",
              "      <td>255.0</td>\n",
              "      <td>0.0</td>\n",
              "      <td>0.0</td>\n",
              "      <td>0.0</td>\n",
              "      <td>0.0</td>\n",
              "      <td>0.0</td>\n",
              "    </tr>\n",
              "    <tr>\n",
              "      <th>4</th>\n",
              "      <td>6</td>\n",
              "      <td>1</td>\n",
              "      <td>36.0</td>\n",
              "      <td>NaN</td>\n",
              "      <td>0</td>\n",
              "      <td>3</td>\n",
              "      <td>0</td>\n",
              "      <td>545</td>\n",
              "      <td>933458400</td>\n",
              "      <td>1999.0</td>\n",
              "      <td>0.0</td>\n",
              "      <td>1.107126e+09</td>\n",
              "      <td>0.0</td>\n",
              "      <td>Korpen flyger</td>\n",
              "      <td>0.0</td>\n",
              "      <td>Rankulla, Vetlanda</td>\n",
              "      <td>0.0</td>\n",
              "      <td>NaN</td>\n",
              "      <td>NaN</td>\n",
              "      <td>\\n</td>\n",
              "      <td>0.0</td>\n",
              "      <td>NaN</td>\n",
              "      <td>0.0</td>\n",
              "      <td>0.0</td>\n",
              "      <td>0.0</td>\n",
              "      <td>0.0</td>\n",
              "      <td>0.0</td>\n",
              "      <td>0.0</td>\n",
              "    </tr>\n",
              "  </tbody>\n",
              "</table>\n",
              "</div>"
            ],
            "text/plain": [
              "  id  user_id  grade_id  ... exclude_from_ranking  user_recommended  chipped\n",
              "0  2        1      36.0  ...                  0.0               0.0      0.0\n",
              "1  3        1      36.0  ...                  0.0               0.0      0.0\n",
              "2  4        1      36.0  ...                  0.0               0.0      0.0\n",
              "3  5        1      36.0  ...                  0.0               0.0      0.0\n",
              "4  6        1      36.0  ...                  0.0               0.0      0.0\n",
              "\n",
              "[5 rows x 28 columns]"
            ]
          },
          "metadata": {
            "tags": []
          },
          "execution_count": 4
        }
      ]
    },
    {
      "cell_type": "code",
      "metadata": {
        "id": "nCBqTsD8qB77",
        "colab_type": "code",
        "colab": {
          "base_uri": "https://localhost:8080/",
          "height": 85
        },
        "outputId": "5a3e4926-368f-43bf-846a-c4ac77d5b481"
      },
      "source": [
        "#Figuring out which value is male versus female: MALE = 0, FEMALE = 1\n",
        "\n",
        "user[\"sex\"].value_counts()"
      ],
      "execution_count": 5,
      "outputs": [
        {
          "output_type": "execute_result",
          "data": {
            "text/plain": [
              "0      53898\n",
              "1       8691\n",
              "255        4\n",
              "Name: sex, dtype: int64"
            ]
          },
          "metadata": {
            "tags": []
          },
          "execution_count": 5
        }
      ]
    },
    {
      "cell_type": "code",
      "metadata": {
        "id": "f4DTr2FWzu30",
        "colab_type": "code",
        "colab": {
          "base_uri": "https://localhost:8080/",
          "height": 68
        },
        "outputId": "b9b8b952-d3e1-47e1-d7ae-4924a961f0e7"
      },
      "source": [
        "#Figuring out which value is a rope route versus a bouldering route: ROPE = 0, BOULDERING = 1\n",
        "ascent.climb_type.value_counts()"
      ],
      "execution_count": 6,
      "outputs": [
        {
          "output_type": "execute_result",
          "data": {
            "text/plain": [
              "0    2875676\n",
              "1    1236202\n",
              "Name: climb_type, dtype: int64"
            ]
          },
          "metadata": {
            "tags": []
          },
          "execution_count": 6
        }
      ]
    },
    {
      "cell_type": "markdown",
      "metadata": {
        "id": "f5nL3-ESuzQv",
        "colab_type": "text"
      },
      "source": [
        "## Clean Up & Merge 3 Dataframes\n",
        "\n",
        "\n",
        "*   Drop unneccesary columns in all three columns\n",
        "*   Forward fill the \"grade table\" so all grade_is correspond to a difficulty number\n",
        "* Drop any nulls\n",
        "* Filter out any users that entered extreme weights or height values because their entries cannot be trusted to be valid information\n",
        "* Turn all floats into integers because floats are not needed for whole numbers\n",
        "\n"
      ]
    },
    {
      "cell_type": "code",
      "metadata": {
        "id": "rUQ374IXuw8X",
        "colab_type": "code",
        "colab": {}
      },
      "source": [
        "#Trimming all three data frames to only the necessary columns\n",
        "\n",
        "#Dropping Columns\n",
        "a_cols = [\"user_id\", \"grade_id\", \"climb_type\"]\n",
        "u_cols = [\"id\", \"sex\", \"height\", \"weight\"]\n",
        "g_cols = [\"id\",\"usa_routes\", \"usa_boulders\"]\n",
        "\n",
        "ascent = ascent[a_cols]\n",
        "user= user[u_cols]\n",
        "grade = grade[g_cols]"
      ],
      "execution_count": 0,
      "outputs": []
    },
    {
      "cell_type": "code",
      "metadata": {
        "id": "AJjkNor8y4KG",
        "colab_type": "code",
        "colab": {}
      },
      "source": [
        "#Forward filling the rock climbing grades\n",
        "\n",
        "grade[[\"usa_routes\", \"usa_boulders\"]]= grade[[\"usa_routes\", \"usa_boulders\"]].fillna(method='ffill')"
      ],
      "execution_count": 0,
      "outputs": []
    },
    {
      "cell_type": "code",
      "metadata": {
        "id": "gBREqjkTr7Dn",
        "colab_type": "code",
        "colab": {}
      },
      "source": [
        "#Drop all null values\n",
        "ascent= ascent.dropna(axis=0) \n",
        "user = user.dropna(axis=0)\n",
        "grade = grade.dropna (axis= 0)"
      ],
      "execution_count": 0,
      "outputs": []
    },
    {
      "cell_type": "markdown",
      "metadata": {
        "id": "dLyopUTT7NVq",
        "colab_type": "text"
      },
      "source": [
        "### Merging the 3 Dataframes"
      ]
    },
    {
      "cell_type": "code",
      "metadata": {
        "id": "nhnnDbci7ulZ",
        "colab_type": "code",
        "colab": {}
      },
      "source": [
        "#Left merge the ascent table with user table\n",
        "ascent = ascent.merge(user,how='left', left_on='user_id', right_on='id')"
      ],
      "execution_count": 0,
      "outputs": []
    },
    {
      "cell_type": "code",
      "metadata": {
        "id": "GW625W4H54mr",
        "colab_type": "code",
        "colab": {}
      },
      "source": [
        "#Left merge the ascent table with grade table\n",
        "rock = ascent.merge(grade,how='left', left_on='grade_id', right_on='id')"
      ],
      "execution_count": 0,
      "outputs": []
    },
    {
      "cell_type": "code",
      "metadata": {
        "id": "lRxC0mCZ74vk",
        "colab_type": "code",
        "colab": {}
      },
      "source": [
        "#Drop unnecessary columns\n",
        "rock = rock.drop([\"id_x\", \"id_y\"], axis= 1)"
      ],
      "execution_count": 0,
      "outputs": []
    },
    {
      "cell_type": "code",
      "metadata": {
        "id": "LoNyh-bP0Na9",
        "colab_type": "code",
        "colab": {}
      },
      "source": [
        "#Cleaning up sex, weight, height columns\n",
        "rock = rock[rock.sex != 255]\n",
        "rock = rock[(rock.height > 134) & (rock.height < 215)] #weeding out extreme entries that are less than 4 feet 5 inches tall & taller than 7 feet\n",
        "rock = rock[(rock.weight > 30)] #weeding out a person that weighs less than 70 lbs"
      ],
      "execution_count": 0,
      "outputs": []
    },
    {
      "cell_type": "code",
      "metadata": {
        "id": "QeXnKPVcxuBU",
        "colab_type": "code",
        "colab": {}
      },
      "source": [
        "#converting floats to integers\n",
        "cols= [\"sex\", \"height\", \"weight\", \"grade_id\", \"climb_type\", \"user_id\"]\n",
        "rock[cols] = rock[cols].astype('int64')"
      ],
      "execution_count": 0,
      "outputs": []
    },
    {
      "cell_type": "code",
      "metadata": {
        "id": "4WUGzLdq75_p",
        "colab_type": "code",
        "colab": {
          "base_uri": "https://localhost:8080/",
          "height": 204
        },
        "outputId": "b165de20-dc22-40dd-920c-1765a2dd415c"
      },
      "source": [
        "rock.head()"
      ],
      "execution_count": 15,
      "outputs": [
        {
          "output_type": "execute_result",
          "data": {
            "text/html": [
              "<div>\n",
              "<style scoped>\n",
              "    .dataframe tbody tr th:only-of-type {\n",
              "        vertical-align: middle;\n",
              "    }\n",
              "\n",
              "    .dataframe tbody tr th {\n",
              "        vertical-align: top;\n",
              "    }\n",
              "\n",
              "    .dataframe thead th {\n",
              "        text-align: right;\n",
              "    }\n",
              "</style>\n",
              "<table border=\"1\" class=\"dataframe\">\n",
              "  <thead>\n",
              "    <tr style=\"text-align: right;\">\n",
              "      <th></th>\n",
              "      <th>user_id</th>\n",
              "      <th>grade_id</th>\n",
              "      <th>climb_type</th>\n",
              "      <th>sex</th>\n",
              "      <th>height</th>\n",
              "      <th>weight</th>\n",
              "      <th>usa_routes</th>\n",
              "      <th>usa_boulders</th>\n",
              "    </tr>\n",
              "  </thead>\n",
              "  <tbody>\n",
              "    <tr>\n",
              "      <th>0</th>\n",
              "      <td>1</td>\n",
              "      <td>36</td>\n",
              "      <td>0</td>\n",
              "      <td>0</td>\n",
              "      <td>177</td>\n",
              "      <td>73</td>\n",
              "      <td>5.10a</td>\n",
              "      <td>V3</td>\n",
              "    </tr>\n",
              "    <tr>\n",
              "      <th>1</th>\n",
              "      <td>1</td>\n",
              "      <td>36</td>\n",
              "      <td>0</td>\n",
              "      <td>0</td>\n",
              "      <td>177</td>\n",
              "      <td>73</td>\n",
              "      <td>5.10a</td>\n",
              "      <td>V3</td>\n",
              "    </tr>\n",
              "    <tr>\n",
              "      <th>2</th>\n",
              "      <td>1</td>\n",
              "      <td>36</td>\n",
              "      <td>0</td>\n",
              "      <td>0</td>\n",
              "      <td>177</td>\n",
              "      <td>73</td>\n",
              "      <td>5.10a</td>\n",
              "      <td>V3</td>\n",
              "    </tr>\n",
              "    <tr>\n",
              "      <th>3</th>\n",
              "      <td>1</td>\n",
              "      <td>36</td>\n",
              "      <td>0</td>\n",
              "      <td>0</td>\n",
              "      <td>177</td>\n",
              "      <td>73</td>\n",
              "      <td>5.10a</td>\n",
              "      <td>V3</td>\n",
              "    </tr>\n",
              "    <tr>\n",
              "      <th>4</th>\n",
              "      <td>1</td>\n",
              "      <td>36</td>\n",
              "      <td>0</td>\n",
              "      <td>0</td>\n",
              "      <td>177</td>\n",
              "      <td>73</td>\n",
              "      <td>5.10a</td>\n",
              "      <td>V3</td>\n",
              "    </tr>\n",
              "  </tbody>\n",
              "</table>\n",
              "</div>"
            ],
            "text/plain": [
              "   user_id  grade_id  climb_type  sex  height  weight usa_routes usa_boulders\n",
              "0        1        36           0    0     177      73      5.10a           V3\n",
              "1        1        36           0    0     177      73      5.10a           V3\n",
              "2        1        36           0    0     177      73      5.10a           V3\n",
              "3        1        36           0    0     177      73      5.10a           V3\n",
              "4        1        36           0    0     177      73      5.10a           V3"
            ]
          },
          "metadata": {
            "tags": []
          },
          "execution_count": 15
        }
      ]
    },
    {
      "cell_type": "markdown",
      "metadata": {
        "id": "FB4YCHdP9B6p",
        "colab_type": "text"
      },
      "source": [
        "## Exporting Dataframe for Future Use\n"
      ]
    },
    {
      "cell_type": "code",
      "metadata": {
        "id": "i8W_1LqP8stB",
        "colab_type": "code",
        "colab": {}
      },
      "source": [
        "from google.colab import files\n",
        "rock.to_csv(r'/content/drive/My Drive/Capstone/data/rock.csv', index = None, header=True)"
      ],
      "execution_count": 0,
      "outputs": []
    },
    {
      "cell_type": "markdown",
      "metadata": {
        "id": "XFasDsBNGXHt",
        "colab_type": "text"
      },
      "source": [
        "_______\n",
        "## Male vs. Female  EDA\n",
        "* In this section I will separated out male versus female data\n",
        "* Look at the summary stastistics of each table\n",
        "* Visualize the differences between male and female grades"
      ]
    },
    {
      "cell_type": "code",
      "metadata": {
        "id": "HeIm0_1S9SDz",
        "colab_type": "code",
        "colab": {}
      },
      "source": [
        "#creating two data frames for Male & Female\n",
        "f_rock = rock[rock.sex == 1]\n",
        "m_rock= rock[rock.sex == 0]"
      ],
      "execution_count": 0,
      "outputs": []
    },
    {
      "cell_type": "code",
      "metadata": {
        "id": "4d2cdzYqTc-4",
        "colab_type": "code",
        "colab": {
          "base_uri": "https://localhost:8080/",
          "height": 51
        },
        "outputId": "74d61e0e-e894-4f59-9498-74f20f1acc6d"
      },
      "source": [
        "#Labelling the means\n",
        "f_mu = f_rock.grade_id.mean()\n",
        "m_mu= m_rock.grade_id.mean()\n",
        "print (f\"Female average climb difficulty: {f_mu}\")\n",
        "print (f\"Male average climb difficulty: {m_mu}\")"
      ],
      "execution_count": 18,
      "outputs": [
        {
          "output_type": "stream",
          "text": [
            "Female average climb difficulty: 43.64609409243656\n",
            "Male average climb difficulty: 46.98894091434864\n"
          ],
          "name": "stdout"
        }
      ]
    },
    {
      "cell_type": "code",
      "metadata": {
        "id": "3PLUrYJPHExZ",
        "colab_type": "code",
        "colab": {
          "base_uri": "https://localhost:8080/",
          "height": 297
        },
        "outputId": "876945de-72e9-4225-8ac0-73fc3d9fcc0a"
      },
      "source": [
        "#female summary stastistics\n",
        "f_rock.describe()"
      ],
      "execution_count": 19,
      "outputs": [
        {
          "output_type": "execute_result",
          "data": {
            "text/html": [
              "<div>\n",
              "<style scoped>\n",
              "    .dataframe tbody tr th:only-of-type {\n",
              "        vertical-align: middle;\n",
              "    }\n",
              "\n",
              "    .dataframe tbody tr th {\n",
              "        vertical-align: top;\n",
              "    }\n",
              "\n",
              "    .dataframe thead th {\n",
              "        text-align: right;\n",
              "    }\n",
              "</style>\n",
              "<table border=\"1\" class=\"dataframe\">\n",
              "  <thead>\n",
              "    <tr style=\"text-align: right;\">\n",
              "      <th></th>\n",
              "      <th>user_id</th>\n",
              "      <th>grade_id</th>\n",
              "      <th>climb_type</th>\n",
              "      <th>sex</th>\n",
              "      <th>height</th>\n",
              "      <th>weight</th>\n",
              "    </tr>\n",
              "  </thead>\n",
              "  <tbody>\n",
              "    <tr>\n",
              "      <th>count</th>\n",
              "      <td>246396.000000</td>\n",
              "      <td>246396.000000</td>\n",
              "      <td>246396.000000</td>\n",
              "      <td>246396.0</td>\n",
              "      <td>246396.000000</td>\n",
              "      <td>246396.000000</td>\n",
              "    </tr>\n",
              "    <tr>\n",
              "      <th>mean</th>\n",
              "      <td>30234.513718</td>\n",
              "      <td>43.646094</td>\n",
              "      <td>0.208912</td>\n",
              "      <td>1.0</td>\n",
              "      <td>164.513304</td>\n",
              "      <td>54.187426</td>\n",
              "    </tr>\n",
              "    <tr>\n",
              "      <th>std</th>\n",
              "      <td>17493.507404</td>\n",
              "      <td>9.214684</td>\n",
              "      <td>0.406532</td>\n",
              "      <td>0.0</td>\n",
              "      <td>7.202574</td>\n",
              "      <td>7.432530</td>\n",
              "    </tr>\n",
              "    <tr>\n",
              "      <th>min</th>\n",
              "      <td>4.000000</td>\n",
              "      <td>7.000000</td>\n",
              "      <td>0.000000</td>\n",
              "      <td>1.0</td>\n",
              "      <td>135.000000</td>\n",
              "      <td>40.000000</td>\n",
              "    </tr>\n",
              "    <tr>\n",
              "      <th>25%</th>\n",
              "      <td>16501.000000</td>\n",
              "      <td>38.000000</td>\n",
              "      <td>0.000000</td>\n",
              "      <td>1.0</td>\n",
              "      <td>160.000000</td>\n",
              "      <td>48.000000</td>\n",
              "    </tr>\n",
              "    <tr>\n",
              "      <th>50%</th>\n",
              "      <td>28706.000000</td>\n",
              "      <td>44.000000</td>\n",
              "      <td>0.000000</td>\n",
              "      <td>1.0</td>\n",
              "      <td>165.000000</td>\n",
              "      <td>53.000000</td>\n",
              "    </tr>\n",
              "    <tr>\n",
              "      <th>75%</th>\n",
              "      <td>42935.000000</td>\n",
              "      <td>51.000000</td>\n",
              "      <td>0.000000</td>\n",
              "      <td>1.0</td>\n",
              "      <td>170.000000</td>\n",
              "      <td>58.000000</td>\n",
              "    </tr>\n",
              "    <tr>\n",
              "      <th>max</th>\n",
              "      <td>67015.000000</td>\n",
              "      <td>75.000000</td>\n",
              "      <td>1.000000</td>\n",
              "      <td>1.0</td>\n",
              "      <td>200.000000</td>\n",
              "      <td>100.000000</td>\n",
              "    </tr>\n",
              "  </tbody>\n",
              "</table>\n",
              "</div>"
            ],
            "text/plain": [
              "             user_id       grade_id  ...         height         weight\n",
              "count  246396.000000  246396.000000  ...  246396.000000  246396.000000\n",
              "mean    30234.513718      43.646094  ...     164.513304      54.187426\n",
              "std     17493.507404       9.214684  ...       7.202574       7.432530\n",
              "min         4.000000       7.000000  ...     135.000000      40.000000\n",
              "25%     16501.000000      38.000000  ...     160.000000      48.000000\n",
              "50%     28706.000000      44.000000  ...     165.000000      53.000000\n",
              "75%     42935.000000      51.000000  ...     170.000000      58.000000\n",
              "max     67015.000000      75.000000  ...     200.000000     100.000000\n",
              "\n",
              "[8 rows x 6 columns]"
            ]
          },
          "metadata": {
            "tags": []
          },
          "execution_count": 19
        }
      ]
    },
    {
      "cell_type": "code",
      "metadata": {
        "id": "aONRzdQ4HJT5",
        "colab_type": "code",
        "colab": {
          "base_uri": "https://localhost:8080/",
          "height": 297
        },
        "outputId": "37cb4d14-f804-4a61-ce34-ab18e9c1abfa"
      },
      "source": [
        "#male summary stastistics\n",
        "m_rock.describe()"
      ],
      "execution_count": 20,
      "outputs": [
        {
          "output_type": "execute_result",
          "data": {
            "text/html": [
              "<div>\n",
              "<style scoped>\n",
              "    .dataframe tbody tr th:only-of-type {\n",
              "        vertical-align: middle;\n",
              "    }\n",
              "\n",
              "    .dataframe tbody tr th {\n",
              "        vertical-align: top;\n",
              "    }\n",
              "\n",
              "    .dataframe thead th {\n",
              "        text-align: right;\n",
              "    }\n",
              "</style>\n",
              "<table border=\"1\" class=\"dataframe\">\n",
              "  <thead>\n",
              "    <tr style=\"text-align: right;\">\n",
              "      <th></th>\n",
              "      <th>user_id</th>\n",
              "      <th>grade_id</th>\n",
              "      <th>climb_type</th>\n",
              "      <th>sex</th>\n",
              "      <th>height</th>\n",
              "      <th>weight</th>\n",
              "    </tr>\n",
              "  </thead>\n",
              "  <tbody>\n",
              "    <tr>\n",
              "      <th>count</th>\n",
              "      <td>2.577157e+06</td>\n",
              "      <td>2.577157e+06</td>\n",
              "      <td>2.577157e+06</td>\n",
              "      <td>2577157.0</td>\n",
              "      <td>2.577157e+06</td>\n",
              "      <td>2.577157e+06</td>\n",
              "    </tr>\n",
              "    <tr>\n",
              "      <th>mean</th>\n",
              "      <td>2.556321e+04</td>\n",
              "      <td>4.698894e+01</td>\n",
              "      <td>2.992057e-01</td>\n",
              "      <td>0.0</td>\n",
              "      <td>1.778378e+02</td>\n",
              "      <td>7.001573e+01</td>\n",
              "    </tr>\n",
              "    <tr>\n",
              "      <th>std</th>\n",
              "      <td>1.720688e+04</td>\n",
              "      <td>9.229671e+00</td>\n",
              "      <td>4.579102e-01</td>\n",
              "      <td>0.0</td>\n",
              "      <td>7.078003e+00</td>\n",
              "      <td>8.390036e+00</td>\n",
              "    </tr>\n",
              "    <tr>\n",
              "      <th>min</th>\n",
              "      <td>1.000000e+00</td>\n",
              "      <td>1.000000e+00</td>\n",
              "      <td>0.000000e+00</td>\n",
              "      <td>0.0</td>\n",
              "      <td>1.350000e+02</td>\n",
              "      <td>4.000000e+01</td>\n",
              "    </tr>\n",
              "    <tr>\n",
              "      <th>25%</th>\n",
              "      <td>1.073800e+04</td>\n",
              "      <td>4.000000e+01</td>\n",
              "      <td>0.000000e+00</td>\n",
              "      <td>0.0</td>\n",
              "      <td>1.730000e+02</td>\n",
              "      <td>6.300000e+01</td>\n",
              "    </tr>\n",
              "    <tr>\n",
              "      <th>50%</th>\n",
              "      <td>2.317200e+04</td>\n",
              "      <td>4.900000e+01</td>\n",
              "      <td>0.000000e+00</td>\n",
              "      <td>0.0</td>\n",
              "      <td>1.780000e+02</td>\n",
              "      <td>6.800000e+01</td>\n",
              "    </tr>\n",
              "    <tr>\n",
              "      <th>75%</th>\n",
              "      <td>3.797200e+04</td>\n",
              "      <td>5.300000e+01</td>\n",
              "      <td>1.000000e+00</td>\n",
              "      <td>0.0</td>\n",
              "      <td>1.820000e+02</td>\n",
              "      <td>7.300000e+01</td>\n",
              "    </tr>\n",
              "    <tr>\n",
              "      <th>max</th>\n",
              "      <td>6.702500e+04</td>\n",
              "      <td>8.300000e+01</td>\n",
              "      <td>1.000000e+00</td>\n",
              "      <td>0.0</td>\n",
              "      <td>2.120000e+02</td>\n",
              "      <td>1.000000e+02</td>\n",
              "    </tr>\n",
              "  </tbody>\n",
              "</table>\n",
              "</div>"
            ],
            "text/plain": [
              "            user_id      grade_id  ...        height        weight\n",
              "count  2.577157e+06  2.577157e+06  ...  2.577157e+06  2.577157e+06\n",
              "mean   2.556321e+04  4.698894e+01  ...  1.778378e+02  7.001573e+01\n",
              "std    1.720688e+04  9.229671e+00  ...  7.078003e+00  8.390036e+00\n",
              "min    1.000000e+00  1.000000e+00  ...  1.350000e+02  4.000000e+01\n",
              "25%    1.073800e+04  4.000000e+01  ...  1.730000e+02  6.300000e+01\n",
              "50%    2.317200e+04  4.900000e+01  ...  1.780000e+02  6.800000e+01\n",
              "75%    3.797200e+04  5.300000e+01  ...  1.820000e+02  7.300000e+01\n",
              "max    6.702500e+04  8.300000e+01  ...  2.120000e+02  1.000000e+02\n",
              "\n",
              "[8 rows x 6 columns]"
            ]
          },
          "metadata": {
            "tags": []
          },
          "execution_count": 20
        }
      ]
    },
    {
      "cell_type": "code",
      "metadata": {
        "id": "uFwGtBKW361Z",
        "colab_type": "code",
        "colab": {
          "base_uri": "https://localhost:8080/",
          "height": 54
        },
        "outputId": "cbb84bab-0c2f-4b90-9d0e-9fe0389cc0aa"
      },
      "source": [
        "#creating a dictionary & list for the x-ticks & reference to actual grades\n",
        "climb_ratings= rock.set_index('grade_id').to_dict()['usa_routes']\n",
        "print (climb_ratings)\n",
        "full_ratings= ['3/4', '5.1', '5.2', '5.3', '5.4', '5.5', '5.6', '5.7', '5.8', '5.9','5.10a','5.10b','5.10c','5.10d','5.11a', '5.11b','5.11d','5.12a','5.12b','5.12c','5.12d','5.13a','5.13b','5.13c','5.13d','5.14a','5.14b','5.14b/c','5.14c', '5.14d', '5.15a', '5.15b', '5.15c']"
      ],
      "execution_count": 21,
      "outputs": [
        {
          "output_type": "stream",
          "text": [
            "{36: '5.10a', 38: '5.10b', 40: '5.10c', 42: '5.10d', 44: '5.11a', 46: '5.11b', 49: '5.11d', 51: '5.12a', 53: '5.12b', 55: '5.12c', 57: '5.12d', 62: '5.13b', 59: '5.13a', 64: '5.13c', 66: '5.13d', 72: '5.14c', 68: '5.14a', 70: '5.14b', 75: '5.14d', 31: '5.8', 33: '5.9', 21: '5.4', 29: '5.7', 13: '5.3', 1: '3/4', 71: '5.14b/c', 77: '5.15a', 73: '5.14c/d', 23: '5.5', 25: '5.6', 17: '5.3', 15: '5.3', 79: '5.15b', 7: '5.1', 83: '5.15c', 81: '5.15c'}\n"
          ],
          "name": "stdout"
        }
      ]
    },
    {
      "cell_type": "code",
      "metadata": {
        "id": "6f4SM9VjHwUn",
        "colab_type": "code",
        "colab": {
          "base_uri": "https://localhost:8080/",
          "height": 1089
        },
        "outputId": "7d99088c-e7f2-46e7-9ea3-325f7bfe28ff"
      },
      "source": [
        "# Graphing Male versus Female\n",
        "\n",
        "fig= plt.figure(figsize=(15,15))\n",
        "\n",
        "#female \n",
        "ax1= fig.add_subplot(3,1,1)\n",
        "sns.countplot(x='grade_id', data=f_rock, palette = \"RdPu\")\n",
        "plt.xlabel(\"Grade ID\", fontsize= 14)\n",
        "plt.ylabel(\"Count\", fontsize= 14)\n",
        "plt.title(\"Female Rock Climbing Grades\", fontsize= 18)\n",
        "ax1.set_xticklabels(full_ratings, rotation=60)\n",
        "\n",
        "#male\n",
        "ax2 = plt.subplot(3,1,2)\n",
        "sns.countplot(x=\"grade_id\", data= m_rock, palette = \"GnBu_d\")\n",
        "plt.xlabel(\"Grade ID\", fontsize= 14)\n",
        "plt.ylabel(\"Count\", fontsize= 14)\n",
        "plt.title(\"Male Rock Climbing Grades\", fontsize= 18)\n",
        "ax2.set_xticklabels(full_ratings, rotation=60)\n",
        "\n",
        "#joint histogram\n",
        "plt.subplot (3,1,3)\n",
        "plt.hist(m_rock[\"grade_id\"],bins=35, color= \"#6baed6\", label= \"Male grades\")\n",
        "plt.hist(f_rock[\"grade_id\"],bins=35, color= \"#ae017e\", alpha=.6, label= \"Female grades\")\n",
        "plt.axvline(f_mu, color='#7a0177', linestyle='dashed', label=(f'Female mean={f_mu:.2f} ≈ 5.11a'))\n",
        "plt.axvline(m_mu, color='#084594', label=(f'Male mean={m_mu:.2f} ≈ 5.11c'))\n",
        "plt.xlabel(\"Grade ID\", fontsize= 14)\n",
        "plt.ylabel(\"Count\", fontsize= 14)\n",
        "plt.title('Male vs. Female Histogram', fontsize= 18)\n",
        "plt.legend()\n",
        "\n",
        "plt.tight_layout()"
      ],
      "execution_count": 22,
      "outputs": [
        {
          "output_type": "display_data",
          "data": {
            "image/png": "[encoded data removed]",
            "text/plain": [
              "<Figure size 1080x1080 with 3 Axes>"
            ]
          },
          "metadata": {
            "tags": []
          }
        }
      ]
    },
    {
      "cell_type": "code",
      "metadata": {
        "id": "XzXNyqaZIymA",
        "colab_type": "code",
        "colab": {
          "base_uri": "https://localhost:8080/",
          "height": 538
        },
        "outputId": "d6936563-c034-4a28-e6e1-553180e49f29"
      },
      "source": [
        "#Violin Plots\n",
        "\n",
        "#Function to create a labelled sex column\n",
        "def sex(x):\n",
        "    if x == 1:\n",
        "        return \"Female\"\n",
        "    else:\n",
        "        return \"Male\"\n",
        "\n",
        "#create a new column in the data frame with sizes\n",
        "rock[\"sex_2\"]= [sex(row) for row in rock[\"sex\"]]\n",
        "\n",
        "#Creating a color palette\n",
        "my_pal = {\"Female\": \"#dd3497\", \"Male\": \"#3690c0\"}\n",
        "\n",
        "#Generate Plot\n",
        "fig, ax = plt.subplots(figsize=(15,8))\n",
        "sns.violinplot(x=\"sex_2\", y=\"grade_id\", data = rock, palette=my_pal)\n",
        "plt.title(\"Male vs. Female Stastistics\", fontsize=18)\n",
        "plt.xlabel(\"Sex\", fontsize= 14)\n",
        "plt.ylabel(\"Grade of Rock Climb\", fontsize= 14)\n",
        "plt.show"
      ],
      "execution_count": 23,
      "outputs": [
        {
          "output_type": "execute_result",
          "data": {
            "text/plain": [
              "<function matplotlib.pyplot.show>"
            ]
          },
          "metadata": {
            "tags": []
          },
          "execution_count": 23
        },
        {
          "output_type": "display_data",
          "data": {
            "image/png": "[encoded data removed]",
            "text/plain": [
              "<Figure size 1080x576 with 1 Axes>"
            ]
          },
          "metadata": {
            "tags": []
          }
        }
      ]
    },
    {
      "cell_type": "markdown",
      "metadata": {
        "id": "mss9yV8oglVs",
        "colab_type": "text"
      },
      "source": [
        "## Initial Impressions from EDA\n",
        "\n",
        "\n",
        "*   Males have a larger range of climbing grades\n",
        "* Male climbing grades have more outliers on the lower grades and a larger inner quartile range\n",
        "* Male grades have a spike of climbs logged at 5.11d on rope or V6  for bouldering\n",
        "*   Female climbing grades tend to be more consistent in the innerquartile with the most logged climbs ranging anywhere from 5.10a to 5.11d on rope or V3-V6 for bouldering\n",
        "* Males have a higher logged a slightly higher max climb than females (5.14d versus 5.14c) even though harder grades are being climbed in the world, they were not logged here.\n",
        "* *Now time to test the hypothesis that the averages are different!*\n",
        "\n",
        "_____\n",
        "\n",
        "\n"
      ]
    },
    {
      "cell_type": "markdown",
      "metadata": {
        "id": "vKsZL6SWksEr",
        "colab_type": "text"
      },
      "source": [
        "# Hypothesis Test\n",
        "\n",
        "### Process\n",
        "1. State the hypothesis and significance level\n",
        "2. For fun, try a T-test and a Z-test to test the hypothesis, and see if there are differing results \n",
        "\n",
        "### Stating the Hypothesis & Alpha:\n",
        "* Null hypothesis \n",
        ">$H_0: \\mu1 = \\mu2 $\n",
        ">*There is no difference between the average male & female climbing grades*\n",
        "\n",
        "* Alternative hypothesis \n",
        "> $ H_1: \\mu1 > \\mu2 $\n",
        ">*Average male climbing grades are higher than female climbing grades*\n",
        "\n",
        "* Significance Level\n",
        "> $ {\\alpha = .05} $"
      ]
    },
    {
      "cell_type": "code",
      "metadata": {
        "id": "Tq7E3jMZgkE3",
        "colab_type": "code",
        "colab": {
          "base_uri": "https://localhost:8080/",
          "height": 51
        },
        "outputId": "76477e25-e6d5-471c-d4c8-c09303f6dca1"
      },
      "source": [
        "#Restating the means\n",
        "print (f\"Female average climb difficulty: {f_mu}\")\n",
        "print (f\"Male average climb difficulty: {m_mu}\")"
      ],
      "execution_count": 24,
      "outputs": [
        {
          "output_type": "stream",
          "text": [
            "Female average climb difficulty: 43.64609409243656\n",
            "Male average climb difficulty: 46.98894091434864\n"
          ],
          "name": "stdout"
        }
      ]
    },
    {
      "cell_type": "code",
      "metadata": {
        "id": "05ukwakCmLp2",
        "colab_type": "code",
        "colab": {
          "base_uri": "https://localhost:8080/",
          "height": 34
        },
        "outputId": "07595a31-4571-42f8-dfb0-59458bf4b674"
      },
      "source": [
        "##computing the combined mean\n",
        "combined_mean= np.mean(rock[\"grade_id\"])\n",
        "print (f\"Combined mean: {combined_mean}\")\n",
        "\n",
        "#turning columns into arrays for functions\n",
        "m_grade_ary = m_rock[\"grade_id\"].values\n",
        "f_grade_ary = f_rock[\"grade_id\"].values\n"
      ],
      "execution_count": 25,
      "outputs": [
        {
          "output_type": "stream",
          "text": [
            "Combined mean: 46.697228987732835\n"
          ],
          "name": "stdout"
        }
      ]
    },
    {
      "cell_type": "code",
      "metadata": {
        "id": "HUD_f86Rn-Bb",
        "colab_type": "code",
        "colab": {
          "base_uri": "https://localhost:8080/",
          "height": 68
        },
        "outputId": "0aae5bbf-3458-4ab3-cf11-62959ee5b0ef"
      },
      "source": [
        "#T-TEST two sample/one-tail\n",
        "\n",
        "ttest, p = ttest_ind(m_grade_ary,f_grade_ary)\n",
        "\n",
        "#Results\n",
        "print (\"T-Test Results:\")\n",
        "print(f\"P-value:{p:.5f}\")\n",
        "if p <0.05:\n",
        "  print(\"we reject null hypothesis\")\n",
        "else:\n",
        "  print(\"we accept null hypothesis\")"
      ],
      "execution_count": 26,
      "outputs": [
        {
          "output_type": "stream",
          "text": [
            "T-Test Results:\n",
            "P-value:0.00000\n",
            "we reject null hypothesis\n"
          ],
          "name": "stdout"
        }
      ]
    },
    {
      "cell_type": "code",
      "metadata": {
        "id": "loimeaSWmvH3",
        "colab_type": "code",
        "colab": {
          "base_uri": "https://localhost:8080/",
          "height": 102
        },
        "outputId": "776998e6-5b94-47d8-f204-62b27daec4df"
      },
      "source": [
        "#Z-TEST two sample/one-tail \n",
        "\n",
        "#z-test \n",
        "ztest ,pval = stests.ztest(m_grade_ary, x2=f_grade_ary, value=0)\n",
        "\n",
        "#results\n",
        "print(\"Z-Test Results:\")\n",
        "print(f\"P-value:{pval:.5f}\")\n",
        "if pval < 0.05:    # alpha value is 5%\n",
        "    print(\"We reject the null hypothesis\")\n",
        "else:\n",
        "    print(\"We accept the null hypothesis\")\n",
        "    \n",
        "# Compute mean and standard deviation of the current sample: mu, sigma\n",
        "n= len(rock[\"grade_id\"])\n",
        "sd = np.std(rock[\"grade_id\"])\n",
        "z= 1.96 #critical z-value for 95% confidence interval\n",
        "\n",
        "#Compute the 95% confidence interval\n",
        "margin_er = z * (sd/math.sqrt(n))\n",
        "\n",
        "# Print the confidence interval & margin of error\n",
        "print(f\"The margin of error = {margin_er}\")\n",
        "print(f'The 95% confidence interval = [{combined_mean- margin_er}, {combined_mean + margin_er}]')"
      ],
      "execution_count": 27,
      "outputs": [
        {
          "output_type": "stream",
          "text": [
            "Z-Test Results:\n",
            "P-value:0.00000\n",
            "We reject the null hypothesis\n",
            "The margin of error = 0.010820325949267323\n",
            "The 95% confidence interval = [46.68640866178357, 46.7080493136821]\n"
          ],
          "name": "stdout"
        }
      ]
    },
    {
      "cell_type": "markdown",
      "metadata": {
        "id": "c9aAWIWnqUUc",
        "colab_type": "text"
      },
      "source": [
        "## Results & Conclusions\n",
        "\n",
        "\n",
        "*   The p-value is incredibly small with both the T & Z tests, and it is stasistically not probable the the difference in male & female climbing grades is due to chance \n",
        "*   Therefore, we can say that based on this dataset male climbing grades are higher than female climbing grades on average\n",
        "* This would be fun project to reanalyze in the future when more females start to log harder climbs\n",
        "* Also, with more time, it would be valuable to try different cleaning techniques to see what data was left out of this analysis\n",
        "\n"
      ]
    },
    {
      "cell_type": "code",
      "metadata": {
        "id": "ojPMzzzO-tWI",
        "colab_type": "code",
        "colab": {}
      },
      "source": [
        ""
      ],
      "execution_count": 0,
      "outputs": []
    }
  ]
}