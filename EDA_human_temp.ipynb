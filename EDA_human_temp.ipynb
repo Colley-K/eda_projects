{
 "cells": [
  {
   "cell_type": "markdown",
   "metadata": {},
   "source": [
    "# Has our average body temperature evolved since it was labeled as 98.6 degrees in 1868?  \n",
    "\n",
    "#### Background\n",
    "\n",
    "The mean normal body temperature was held to be 37$^{\\circ}$C or 98.6$^{\\circ}$F for more than 120 years since it was first conceptualized and reported by Carl Wunderlich in a famous 1868 book. But, is this value statistically correct?\n",
    "\n",
    "#### Resources\n",
    "\n",
    "+ Information and data sources: http://www.amstat.org/publications/jse/datasets/normtemp.txt, http://www.amstat.org/publications/jse/jse_data_archive.htm\n",
    "\n",
    "#### Steps\n",
    "\n",
    "1. Use various methods to check normality with the temperature data\n",
    "2. Evaluate sample size, indepedence, and random nature of sample\n",
    "3. Use bootstraping & frequentists methods to compute the current average, and if this change is stastically signficant, or due to chance.\n",
    "4. Experiment with sample size, and see what happens to the probability stastics when you reduce the sample from 130 to 10 and compute both a z & t stastistic\n",
    "5. Explore what it means to have an \"abnormal temperature\" by exploring the confidence intervals using the bootstrapping & frequentists methods\n",
    "6. Explore the difference of normal temperatures between male and females"
   ]
  },
  {
   "cell_type": "markdown",
   "metadata": {},
   "source": [
    "## Imports"
   ]
  },
  {
   "cell_type": "code",
   "execution_count": 1,
   "metadata": {},
   "outputs": [],
   "source": [
    "#imports & upload data\n",
    "\n",
    "import pandas as pd\n",
    "import matplotlib.pyplot as plt\n",
    "import numpy as np\n",
    "from scipy import stats\n",
    "from statsmodels.stats import weightstats as stests\n",
    "from scipy.stats import ttest_1samp\n",
    "import seaborn as sns\n",
    "sns.set()\n",
    "\n",
    "df = pd.read_csv('data/human_body_temperature.csv')"
   ]
  },
  {
   "cell_type": "markdown",
   "metadata": {},
   "source": [
    "#### Look at imported data frame to understand columns and data..."
   ]
  },
  {
   "cell_type": "code",
   "execution_count": 2,
   "metadata": {},
   "outputs": [
    {
     "data": {
      "text/html": [
       "<div>\n",
       "<style scoped>\n",
       "    .dataframe tbody tr th:only-of-type {\n",
       "        vertical-align: middle;\n",
       "    }\n",
       "\n",
       "    .dataframe tbody tr th {\n",
       "        vertical-align: top;\n",
       "    }\n",
       "\n",
       "    .dataframe thead th {\n",
       "        text-align: right;\n",
       "    }\n",
       "</style>\n",
       "<table border=\"1\" class=\"dataframe\">\n",
       "  <thead>\n",
       "    <tr style=\"text-align: right;\">\n",
       "      <th></th>\n",
       "      <th>temperature</th>\n",
       "      <th>gender</th>\n",
       "      <th>heart_rate</th>\n",
       "    </tr>\n",
       "  </thead>\n",
       "  <tbody>\n",
       "    <tr>\n",
       "      <th>0</th>\n",
       "      <td>99.3</td>\n",
       "      <td>F</td>\n",
       "      <td>68.0</td>\n",
       "    </tr>\n",
       "    <tr>\n",
       "      <th>1</th>\n",
       "      <td>98.4</td>\n",
       "      <td>F</td>\n",
       "      <td>81.0</td>\n",
       "    </tr>\n",
       "    <tr>\n",
       "      <th>2</th>\n",
       "      <td>97.8</td>\n",
       "      <td>M</td>\n",
       "      <td>73.0</td>\n",
       "    </tr>\n",
       "    <tr>\n",
       "      <th>3</th>\n",
       "      <td>99.2</td>\n",
       "      <td>F</td>\n",
       "      <td>66.0</td>\n",
       "    </tr>\n",
       "    <tr>\n",
       "      <th>4</th>\n",
       "      <td>98.0</td>\n",
       "      <td>F</td>\n",
       "      <td>73.0</td>\n",
       "    </tr>\n",
       "  </tbody>\n",
       "</table>\n",
       "</div>"
      ],
      "text/plain": [
       "   temperature gender  heart_rate\n",
       "0         99.3      F        68.0\n",
       "1         98.4      F        81.0\n",
       "2         97.8      M        73.0\n",
       "3         99.2      F        66.0\n",
       "4         98.0      F        73.0"
      ]
     },
     "execution_count": 2,
     "metadata": {},
     "output_type": "execute_result"
    }
   ],
   "source": [
    "df.shape\n",
    "df.head()"
   ]
  },
  {
   "cell_type": "markdown",
   "metadata": {},
   "source": [
    "## Forumlas\n",
    "\n",
    "\n",
    "\n",
    "* Standard Devation:\n",
    "\n",
    "$ s =\\sqrt{\\frac{1}{N-1}\\sum_{i=1}^N (x_i - \\bar{x})^2 }$\n",
    "\n",
    "* Standard Sample Error:\n",
    "\n",
    "$ \\text{s}_\\bar{x}\\ = \\frac{s}{\\sqrt{n}} $\n",
    "\n",
    "* Confidence intervals for z-score:\n",
    "\n",
    "$\\left(\\bar{x} - z^* {\\sigma \\over \\sqrt{n}}, \\bar{x} + z^* {\\sigma \\over \\sqrt{n}}\\right)$\n",
    "\n",
    "* Confidence interval for t-score (less than 30 samples): \n",
    "\n",
    "$\\left(\\bar{x} - t^* {s \\over \\sqrt{n}}, \\bar{x} + t^* {s \\over \\sqrt{n}}\\right)$"
   ]
  },
  {
   "cell_type": "markdown",
   "metadata": {},
   "source": [
    "## Functions"
   ]
  },
  {
   "cell_type": "code",
   "execution_count": 3,
   "metadata": {},
   "outputs": [],
   "source": [
    "#ECDF function\n",
    "def ecdf(data):\n",
    "    \"\"\"Compute ECDF for a one-dimensional array of measurements.\"\"\"\n",
    "    # Number of data points: n\n",
    "    n = len(data)\n",
    "\n",
    "    # x-data for the ECDF: x\n",
    "    x = np.sort(data)\n",
    "\n",
    "    # y-data for the ECDF: y\n",
    "    y= np.arange(1, n+1)/ n\n",
    "\n",
    "    return x, y\n",
    "\n",
    "#Bootstrap functions that creates replicates for n size of sample\n",
    "\n",
    "#MAIN function:takes in a number of samples plus data & Function\n",
    "def draw_bs_reps(data, func, size=1):\n",
    "    \"\"\"Draw bootstrap replicates.\"\"\"\n",
    "\n",
    "    # Initialize array of replicates: bs_replicates\n",
    "    bs_replicates = np.empty(size)\n",
    "\n",
    "    # Generate replicates\n",
    "    for i in range(size):\n",
    "        bs_replicates[i] = bootstrap_replicate_1d(data,func)\n",
    "\n",
    "    return bs_replicates\n",
    "\n",
    "#function to convert data to a sample\n",
    "def bootstrap_replicate_1d(data,func):\n",
    "    \"\"\"Generate bootstrap replicate of 1d data\"\"\"\n",
    "    bs_sample= np.random.choice(data, len(data))\n",
    "    return func(bs_sample)"
   ]
  },
  {
   "cell_type": "markdown",
   "metadata": {},
   "source": [
    "## 1. Checking if the Body Temperatures are Normalized\n",
    "#### Histogram Method:\n"
   ]
  },
  {
   "cell_type": "code",
   "execution_count": 4,
   "metadata": {},
   "outputs": [
    {
     "data": {
      "image/png": "[encoded data removed]",
      "text/plain": [
       "<Figure size 432x288 with 1 Axes>"
      ]
     },
     "metadata": {
      "needs_background": "light"
     },
     "output_type": "display_data"
    }
   ],
   "source": [
    "#Show a histogram of body temps\n",
    "x= plt.hist(df[\"temperature\"], bins=40)#tried different size bins (15,20,40,50) to get a better picture\n",
    "x= plt.xlabel(\"Temperature\")\n",
    "x= plt.ylabel(\"Frequency\")\n",
    "plt.show()"
   ]
  },
  {
   "cell_type": "markdown",
   "metadata": {},
   "source": [
    "#### ECDF Method:\n",
    "\n",
    "Comparing the ECDF with what the data's normal distribution *would* look like"
   ]
  },
  {
   "cell_type": "code",
   "execution_count": 48,
   "metadata": {},
   "outputs": [
    {
     "data": {
      "image/png": "[encoded data removed]",
      "text/plain": [
       "<Figure size 432x288 with 1 Axes>"
      ]
     },
     "metadata": {
      "needs_background": "light"
     },
     "output_type": "display_data"
    }
   ],
   "source": [
    "# Comparing the temps to a normal distribution:\n",
    "mu= np.mean(df[\"temperature\"])\n",
    "sigma= np.std(df[\"temperature\"])\n",
    "\n",
    "#Compute the ECDF of the current temp data\n",
    "x, y = ecdf(df[\"temperature\"]) #ecdf function listed in the beginning\n",
    "\n",
    "# Create a normal distribution with the current temperature's mu and sigma\n",
    "normal= np.random.normal(mu, sigma, size =100000)\n",
    "\n",
    "# Get the CDF of the samples and of the data\n",
    "x_theor, y_theor= ecdf(normal) #ecdf function listed in the begginning\n",
    "\n",
    "# Plot the CDFs and show the plot\n",
    "_ = plt.plot(x_theor, y_theor)\n",
    "_ = plt.plot(x, y, marker='.', linestyle='none')\n",
    "_ = plt.xlabel('Temperature')\n",
    "_ = plt.ylabel('CDF')\n",
    "plt.margins(.02) #keeps data off graph edges\n",
    "plt.title (\"ECDF Current Human Temps\")\n",
    "plt.plot(98.6,.5,'ro',label= 'Old Avg Temp', marker = \"D\", color= \"r\")\n",
    "plt.plot(98.23,.5,'ro',label= 'New Avg Temp', marker = \"D\", color= \"k\")\n",
    "plt.legend(('Normal Dist', 'Current_temps','Old Avg Temp','New Avg Temp'), loc='lower right')\n",
    "\n",
    "plt.show()"
   ]
  },
  {
   "cell_type": "markdown",
   "metadata": {},
   "source": [
    "*From this graph we can see that the higher temperatures look to be a bit under-represented, but it is close*"
   ]
  },
  {
   "cell_type": "markdown",
   "metadata": {},
   "source": [
    "## 2. Evaluating Conditions: Sample Size, Independence, Random Samples\n",
    "\n",
    "#### Sample Size: \n",
    "\n",
    "There are a 130 samples which is greater than 30. Samples become more accurate when n exceeds 30 and will also allow us to use the z-table (Although, we will experiment with using both z & t stastics on different sample sizes to see the effect) "
   ]
  },
  {
   "cell_type": "code",
   "execution_count": 6,
   "metadata": {},
   "outputs": [
    {
     "data": {
      "text/plain": [
       "130"
      ]
     },
     "execution_count": 6,
     "metadata": {},
     "output_type": "execute_result"
    }
   ],
   "source": [
    "len(df.temperature)"
   ]
  },
  {
   "cell_type": "markdown",
   "metadata": {},
   "source": [
    "#### Independence:\n",
    "\n",
    "Independence can be assumed because of the 10% rule, which states independence can be assumed if the sample is less than 10% of the total population. This sample of 130 will most certainly to be assumed to be less than 10% of the total population.\n",
    "\n",
    "#### Random Samples:\n",
    "\n",
    "This data was derived from a dataset presented in Mackowiak, P. A.,\n",
    "Wasserman, S. S., and Levine, M. M.  (1992), \"A Critical Appraisal of\n",
    "98.6 Degrees F, the Upper Limit of the Normal Body Temperature, and\n",
    "Other Legacies of Carl Reinhold August Wunderlich,\" _Journal of the\n",
    "American Medical Association_, 268, 1578-1580 where appropiate measures were taken to generate random samples"
   ]
  },
  {
   "cell_type": "markdown",
   "metadata": {},
   "source": [
    "## 3. Evaulate: is the new average stastically sigificant?\n",
    "#### Utilize the Following:\n",
    "* One sample bootstrap test\n",
    "* One sample frequentist test using z-table\n",
    "* One sample frequentist test using t-table\n",
    "\n",
    "#### Stating the Hypothesis & Alpha:\n",
    "* Null hypothesis \n",
    ">$H_0: \\mu = 98.6 $\n",
    "* Alternative hypothesis \n",
    "> $ H_1: \\mu \\neq 98.6 $\n",
    "* Significance Level\n",
    "> $ {\\alpha = .05} $"
   ]
  },
  {
   "cell_type": "markdown",
   "metadata": {},
   "source": [
    "#### Current Average Temperature"
   ]
  },
  {
   "cell_type": "code",
   "execution_count": 7,
   "metadata": {},
   "outputs": [
    {
     "name": "stdout",
     "output_type": "stream",
     "text": [
      "The Current Temperatrue average is: 98.24923076923075\n"
     ]
    }
   ],
   "source": [
    "#Change the pandas series into an array for my functions will work\n",
    "current_temp = df[\"temperature\"].values\n",
    "\n",
    "#Calculate the mean of the current temperature data\n",
    "current_temp_mean= np.mean(current_temp)\n",
    "print (f\"The Current Temperatrue average is: {current_temp_mean}\")"
   ]
  },
  {
   "cell_type": "markdown",
   "metadata": {},
   "source": [
    "#### Bootstrap Hypothesis Test\n",
    "\n",
    "*Since, we don't possess the data from the original 1868 study, this will be a one-sample bootstrap test where I will manufacture a data set (using replacement) from our current sample reflecting the same average as the 1868 mean.*"
   ]
  },
  {
   "cell_type": "code",
   "execution_count": 8,
   "metadata": {},
   "outputs": [
    {
     "name": "stdout",
     "output_type": "stream",
     "text": [
      "p = 0.00000\n",
      "We reject the null hypothesis\n"
     ]
    }
   ],
   "source": [
    "# STEP 1: convert the data in the current temperature column to refelct the mean of  98.6 ∘ from 1868\n",
    "translated_temp_data = current_temp - current_temp_mean + 98.6\n",
    "\n",
    "# STEP 2: Take bootstrap replicates of the temps translated temperatures\n",
    "bs_replicates = draw_bs_reps(translated_temp_data, np.mean, 100000) #100000 samples drawn with size of 130\n",
    "\n",
    "# STEP 3: Compute the p-value or fraction of replicates that are less than the observed current mean\n",
    "p = np.sum(bs_replicates <= current_temp_mean) / len(bs_replicates) \n",
    "\n",
    "# STEP 4: Print the p-value\n",
    "print(f'p = {p:.5f}')\n",
    "\n",
    "if p <0.05: # alpha value is 0.05 or 5%\n",
    "    print(\"We reject the null hypothesis\")\n",
    "else:\n",
    "    print(\"We accept the null hypothesis\")"
   ]
  },
  {
   "cell_type": "markdown",
   "metadata": {},
   "source": [
    "#### One-Sample Frequentist Test (Z-stastistic)\n",
    "*We need to use a z-test since our sample size is greater than 30 and independent samples*"
   ]
  },
  {
   "cell_type": "code",
   "execution_count": 9,
   "metadata": {},
   "outputs": [
    {
     "name": "stdout",
     "output_type": "stream",
     "text": [
      "4.9021570141012155e-08\n",
      "We reject the null hypothesis\n"
     ]
    }
   ],
   "source": [
    "#intializing one-sample z-test\n",
    "\n",
    "ztest ,pval = stests.ztest(current_temp, x2=None, value=98.6)\n",
    "print(float(pval))\n",
    "if pval<0.05: # alpha value is 0.05 or 5%\n",
    "    print(\"We reject the null hypothesis\")\n",
    "else:\n",
    "    print(\"We accept the null hypothesis\")"
   ]
  },
  {
   "cell_type": "markdown",
   "metadata": {},
   "source": [
    "#### One-Sample Frequentist Test (T-stastistic)\n",
    "*Will now experiment with the t-test to see if there is a difference, even though the z-stastistic is the most appropiate measure*"
   ]
  },
  {
   "cell_type": "code",
   "execution_count": 10,
   "metadata": {},
   "outputs": [
    {
     "name": "stdout",
     "output_type": "stream",
     "text": [
      "P-values:0.00000\n",
      "We reject the null hypothesis\n"
     ]
    }
   ],
   "source": [
    "tset, pval = ttest_1samp(current_temp, 98.6)\n",
    "print(f\"P-values:{pval:.5f}\")\n",
    "if pval < 0.05:    # alpha value is 0.05 or 5%\n",
    "    print(\"We reject the null hypothesis\")\n",
    "else:\n",
    "    print(\"We accept the null hypothesis\")"
   ]
  },
  {
   "cell_type": "markdown",
   "metadata": {},
   "source": [
    "*It looks like in all cases the null hypothesis was rejected. However, it should be noted that the p-value was expeptionally small in the bootstrap & the t-stastistic test*"
   ]
  },
  {
   "cell_type": "markdown",
   "metadata": {},
   "source": [
    "## 4. Experiment with Sample Size\n",
    "*What will happen to the probability when reducing the sample size from 130 to 10?*\n",
    "\n",
    "#### Utilize the Following:\n",
    "* One sample frequentist test using z-table\n",
    "* One sample frequentist test using t-table"
   ]
  },
  {
   "cell_type": "markdown",
   "metadata": {},
   "source": [
    "#### Taking a Random Sample of 10 from the current temperature data set"
   ]
  },
  {
   "cell_type": "code",
   "execution_count": 11,
   "metadata": {},
   "outputs": [],
   "source": [
    "#RANDOM SAMPLE:\n",
    "random_10 = df['temperature'].sample(n=10, random_state=1)\n",
    "random_10= random_10.values #turn the random sample into an array"
   ]
  },
  {
   "cell_type": "markdown",
   "metadata": {},
   "source": [
    "#### Z-Test 10-samples \n",
    "*Improper use of z-stastistic with <30 samples*"
   ]
  },
  {
   "cell_type": "code",
   "execution_count": 12,
   "metadata": {},
   "outputs": [
    {
     "name": "stdout",
     "output_type": "stream",
     "text": [
      "0.04931956555099463\n",
      "We reject the null hypothesis\n"
     ]
    }
   ],
   "source": [
    "ztest ,pval = stests.ztest(random_10, x2=None, value=98.6)\n",
    "print(float(pval))\n",
    "if pval < 0.05:    # alpha value is 0.05 or 5%\n",
    "    print(\"We reject the null hypothesis\")\n",
    "else:\n",
    "    print(\"We accept the null hypothesis\")"
   ]
  },
  {
   "cell_type": "markdown",
   "metadata": {},
   "source": [
    "#### T-Test 10-samples\n",
    "*Proper use of t-stastistic with <30 samples*"
   ]
  },
  {
   "cell_type": "code",
   "execution_count": 13,
   "metadata": {},
   "outputs": [
    {
     "name": "stdout",
     "output_type": "stream",
     "text": [
      "P-values:0.081\n",
      "We accept the null hypothesis\n"
     ]
    }
   ],
   "source": [
    "tset, pval = ttest_1samp(random_10, 98.6)\n",
    "print(f\"P-values:{pval:.3f}\")\n",
    "if pval < 0.05:    # alpha value is 0.05 or 5%\n",
    "    print(\"We reject the null hypothesis\")\n",
    "else:\n",
    "    print(\"We accept the null hypothesis\")"
   ]
  },
  {
   "cell_type": "markdown",
   "metadata": {},
   "source": [
    "*The first acceptance of the null hypothesis was when using the T-test with 10 samples. The Z-test still rejected the null hypothesis which is curious because the z-stat was not a proper application given the sample size, but the t-test was a correct application. Clearly the null is rejected based on all 6 tests, so perhaps the t-test was reflecting the limited information a sample size of ten provides*"
   ]
  },
  {
   "cell_type": "markdown",
   "metadata": {},
   "source": [
    "## 5. Explore what it means to have an \"abnormal temperature\"  \n",
    "*We will examine this question using a 95% confidence interval*\n",
    "#### Utilize the Following:\n",
    "* Confidence intervals using the boostrap method on the original data set (not the 1868 mean of 98.6)\n",
    "* Confidence intervals & margin of error using frequentist methods"
   ]
  },
  {
   "cell_type": "markdown",
   "metadata": {},
   "source": [
    "#### Bootstrap Confidence Interval "
   ]
  },
  {
   "cell_type": "code",
   "execution_count": 14,
   "metadata": {},
   "outputs": [
    {
     "name": "stdout",
     "output_type": "stream",
     "text": [
      "The margin of error = [1.52673077]\n",
      "The 95% confidence interval = [96.7225 99.4775]\n"
     ]
    }
   ],
   "source": [
    "# Draw bootstrap replicates of the mean no-hitter time (equal to tau): bs_replicates\n",
    "bs_replicates = draw_bs_reps(current_temp,np.mean, size=100000) #100,000 bootstrap samples\n",
    "\n",
    "# Compute the 95% confidence interval: conf_int\n",
    "conf_int = np.percentile(current_temp, [2.5, 97.5])\n",
    "\n",
    "# Print the confidence interval & margin of error\n",
    "print(f\"The margin of error = {current_temp_mean - conf_int[:1]}\")\n",
    "print(f'The 95% confidence interval = {conf_int}')"
   ]
  },
  {
   "cell_type": "markdown",
   "metadata": {},
   "source": [
    "#### Frequentist Confidence Interval"
   ]
  },
  {
   "cell_type": "code",
   "execution_count": 15,
   "metadata": {},
   "outputs": [
    {
     "name": "stdout",
     "output_type": "stream",
     "text": [
      "The margin of error = [1.42864117]\n",
      "The 95% confidence interval = [96.8205896  99.68482131]\n"
     ]
    }
   ],
   "source": [
    "# Compute mean and standard deviation of the current sample: mu, sigma\n",
    "mu= np.mean(current_temp)\n",
    "sigma= np.std(current_temp)\n",
    "\n",
    "# Sample out of a normal distribution with this mu and sigma\n",
    "normal= np.random.normal(mu, sigma, size =100000)\n",
    "\n",
    "#Compute the 95% confidence interval\n",
    "f_conf_int= np.percentile(normal, [2.5, 97.5])\n",
    "\n",
    "# Print the confidence interval & margin of error\n",
    "print(f\"The margin of error = {current_temp_mean - f_conf_int[:1]}\")\n",
    "print(f'The 95% confidence interval = {f_conf_int}')\n"
   ]
  },
  {
   "cell_type": "markdown",
   "metadata": {},
   "source": [
    "*Based on both confidence interval tests, we can be 95% certain that the average human temperature is somewhere between 96.72 & 99.69*"
   ]
  },
  {
   "cell_type": "markdown",
   "metadata": {},
   "source": [
    "## 6. Explore if there is a difference of normal temperatures between male and females\n",
    "\n",
    "#### Utilize the Following:\n",
    "* Frequentist Z-test to test the hypothesis that the mean of men and women are the same\n",
    "* Boostrap two-sample test\n",
    "\n",
    "#### Stating the Hypothesis & Alpha:\n",
    "* Null hypothesis \n",
    ">$H_0: \\mu1 = \\mu2 $\n",
    "* Alternative hypothesis \n",
    "> $ H_1: \\mu1 \\neq \\mu2 $\n",
    "* Significance Level\n",
    "> $ {\\alpha = .05} $"
   ]
  },
  {
   "cell_type": "markdown",
   "metadata": {},
   "source": [
    "#### First, split up the sample into male and female sections"
   ]
  },
  {
   "cell_type": "code",
   "execution_count": 16,
   "metadata": {},
   "outputs": [],
   "source": [
    "#create two separate data frames filtering out males & females\n",
    "females = df[df.gender == \"F\"]\n",
    "males = df[df.gender == \"M\"]\n",
    "females.head()\n",
    "\n",
    "#create two arrays to use in bootstrap function\n",
    "f_temps = females.temperature.values\n",
    "m_temps = males.temperature.values"
   ]
  },
  {
   "cell_type": "markdown",
   "metadata": {},
   "source": [
    "#### Visualizing the Difference Between Male & Female Temperatures"
   ]
  },
  {
   "cell_type": "code",
   "execution_count": 53,
   "metadata": {},
   "outputs": [
    {
     "data": {
      "image/png": "[encoded data removed]",
      "text/plain": [
       "<Figure size 432x288 with 1 Axes>"
      ]
     },
     "metadata": {
      "needs_background": "light"
     },
     "output_type": "display_data"
    },
    {
     "name": "stdout",
     "output_type": "stream",
     "text": [
      "Female Average Temp is = 98.39384615384614\n",
      "Male Average Temp is = 98.10461538461537\n"
     ]
    }
   ],
   "source": [
    "#Compute the ECDF of males and females\n",
    "x_f, y_f = ecdf(f_temps) #ecdf for females\n",
    "x_m, y_m = ecdf (m_temps) #ecdf for males\n",
    "\n",
    "# Plot the CDFs and show the plot\n",
    "_ = plt.plot(x_f, y_f, marker='.', linestyle='none',color= 'tab:pink')\n",
    "_ = plt.plot(x_m, y_m, marker='.', linestyle='none', color= \"b\")\n",
    "_ = plt.xlabel('Temperature')\n",
    "_ = plt.ylabel('ECDF')\n",
    "plt.margins(.02) #keeps data off graph edges\n",
    "plt.plot(98.39,.5,'ro', label= 'New Female Avg Temp', marker = \"D\", color= 'k') \n",
    "plt.plot(98.10,.5,'ro', label= 'New Male Avg Temp', marker = \"D\", color= \"r\") \n",
    "plt.title (\"Comparing Male versus Female Temperatures\")\n",
    "plt.legend(('Female', 'Male', 'Female Avg Temp', 'Male Avg Temp'), loc='lower right')\n",
    "\n",
    "plt.show()\n",
    "\n",
    "#average temps\n",
    "print (f\"Female Average Temp is = {np.mean(f_temps)}\")\n",
    "print (f\"Male Average Temp is = {np.mean(m_temps)}\")"
   ]
  },
  {
   "cell_type": "markdown",
   "metadata": {},
   "source": [
    "#### Frequentist Two-Sample Test"
   ]
  },
  {
   "cell_type": "code",
   "execution_count": 18,
   "metadata": {},
   "outputs": [
    {
     "name": "stdout",
     "output_type": "stream",
     "text": [
      "P-value:0.022\n",
      "We accept the null hypothesis\n"
     ]
    }
   ],
   "source": [
    "#z-test \n",
    "ztest ,pval1 = stests.ztest(males['temperature'], x2=females['temperature'], value=0,alternative='two-sided')\n",
    "\n",
    "#results\n",
    "print(f\"P-value:{pval1:.3f}\")\n",
    "if pval < 0.05:    # alpha value is 0.05 or 5%\n",
    "    print(\"We reject the null hypothesis\")\n",
    "else:\n",
    "    print(\"We accept the null hypothesis\")"
   ]
  },
  {
   "cell_type": "markdown",
   "metadata": {},
   "source": [
    "#### Bootstrap two-sample test"
   ]
  },
  {
   "cell_type": "code",
   "execution_count": 30,
   "metadata": {},
   "outputs": [
    {
     "name": "stdout",
     "output_type": "stream",
     "text": [
      "P-value = 0.0116\n",
      "We accept the null hypothesis\n"
     ]
    }
   ],
   "source": [
    "#Compute the original difference of means:\n",
    "original_diff_mean = np.mean(f_temps- m_temps)\n",
    "\n",
    "# First, shift each array so they refelct the original current temp mean\n",
    "f_temps_shifted = f_temps - np.mean(f_temps) + current_temp_mean \n",
    "m_temps_shifted = m_temps - np.mean(m_temps)+ current_temp_mean\n",
    "\n",
    "# Compute 100,000 bootstrap replicates from shifted arrays\n",
    "bs_replicates_f = draw_bs_reps(f_temps_shifted, np.mean, 10000)\n",
    "bs_replicates_m = draw_bs_reps(m_temps_shifted, np.mean, 10000)\n",
    "\n",
    "# Get replicates of difference of means: bs_replicates\n",
    "bs_replicates = bs_replicates_f - bs_replicates_m\n",
    "\n",
    "# Compute and print p-value: p\n",
    "p = np.sum(bs_replicates >= original_diff_mean) / len(bs_replicates) \n",
    "\n",
    "print(f'P-value = {p}')\n",
    "if pval < 0.05:    # alpha value is 0.05 or 5%\n",
    "    print(\"We reject the null hypothesis\")\n",
    "else:\n",
    "    print(\"We accept the null hypothesis\")"
   ]
  },
  {
   "cell_type": "markdown",
   "metadata": {},
   "source": [
    "*Both the frequentist and the bootstrap test accepted the null hypothesis that these means are the same. Thus, the difference in means could be due to chance*"
   ]
  },
  {
   "cell_type": "code",
   "execution_count": null,
   "metadata": {},
   "outputs": [],
   "source": []
  }
 ],
 "metadata": {
  "kernelspec": {
   "display_name": "Python 3",
   "language": "python",
   "name": "python3"
  },
  "language_info": {
   "codemirror_mode": {
    "name": "ipython",
    "version": 3
   },
   "file_extension": ".py",
   "mimetype": "text/x-python",
   "name": "python",
   "nbconvert_exporter": "python",
   "pygments_lexer": "ipython3",
   "version": "3.7.1"
  }
 },
 "nbformat": 4,
 "nbformat_minor": 1
}
