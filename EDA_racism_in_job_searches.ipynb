{
 "cells": [
  {
   "cell_type": "markdown",
   "metadata": {},
   "source": [
    "# Examining Racial Discrimination in the US Job Market\n",
    "\n",
    "### Question\n",
    "Is there a difference between the number of call backs between a black-sounding name and a white-sounding name on a resume?\n",
    "\n",
    "### Background\n",
    "Racial discrimination continues to be pervasive in cultures throughout the world. Researchers examined the level of racial discrimination in the United States labor market by randomly assigning identical résumés to black-sounding or white-sounding names and observing the impact on requests for interviews from employers.\n",
    "\n",
    "### Data\n",
    "In the dataset provided, each row represents a resume. The 'race' column has two values, 'b' and 'w', indicating black-sounding and white-sounding. The column 'call' has two values, 1 and 0, indicating whether the resume received a call from employers or not.\n",
    "\n",
    "### Assumptions\n",
    "\n",
    "Random Sample:\n",
    "* 'b' and 'w' values in race are assigned randomly to the resumes when presented to the employer\n",
    "\n",
    "\n",
    "Independent Samples:\n",
    "* Independence can be assumed because of the 10% rule, which states independence can be assumed if the sample is less than 10% of the total population. This sample of 4,870 resumes will most certainly be assumed to be less than 10% of the total population's job search.\n",
    "\n",
    "\n",
    "Shape Shifting Criteria:\n",
    "*The probability of success that the expected mean of a success or failure are greater than 10 *\n",
    "* np > 10 and n(1-p)> 10\n",
    "\n",
    "Normal Distribution:\n",
    "* This data does apply to the central limit theorem because the same size is greater than 30 and they are independent samples\n",
    "\n",
    "### Method\n",
    "\n",
    "To answer this question, I will explore two different tests:\n",
    "* A two-sample bootstrap\n",
    "* A two-sample frequentist test\n",
    "\n",
    "### Hypothesis \n",
    "\n",
    "* Null hypothesis \n",
    ">$H_0: \\mu1 = \\mu2 $\n",
    "* Alternative hypothesis \n",
    "> $ H_1: \\mu1 \\neq \\mu2 $\n",
    "* Significance Level\n",
    "> $ {\\alpha = .05} $\n",
    "\n",
    "### Resources\n",
    "Experiment information and data source: http://www.povertyactionlab.org/evaluation/discrimination-job-market-united-states\n"
   ]
  },
  {
   "cell_type": "markdown",
   "metadata": {},
   "source": [
    "### Exercises\n",
    "You will perform a statistical analysis to establish whether race has a significant impact on the rate of callbacks for resumes.\n",
    "\n",
    "Answer the following questions **in this notebook below and submit to your Github account**. \n",
    "\n",
    "   1. What test is appropriate for this problem? Does CLT apply?\n",
    "   2. What are the null and alternate hypotheses?\n",
    "   3. Compute margin of error, confidence interval, and p-value. Try using both the bootstrapping and the frequentist statistical approaches.\n",
    "   4. Write a story describing the statistical significance in the context or the original problem.\n",
    "   5. Does your analysis mean that race/name is the most important factor in callback success? Why or why not? If not, how would you amend your analysis?\n",
    "\n",
    "You can include written notes in notebook cells using Markdown: \n",
    "   - In the control panel at the top, choose Cell > Cell Type > Markdown\n",
    "   - Markdown syntax: http://nestacms.com/docs/creating-content/markdown-cheat-sheet\n",
    "\n",
    "#### Resources\n",
    "+ Experiment information and data source: http://www.povertyactionlab.org/evaluation/discrimination-job-market-united-states\n",
    "+ Scipy statistical methods: http://docs.scipy.org/doc/scipy/reference/stats.html \n",
    "+ Markdown syntax: http://nestacms.com/docs/creating-content/markdown-cheat-sheet\n",
    "+ Formulas for the Bernoulli distribution: https://en.wikipedia.org/wiki/Bernoulli_distribution"
   ]
  },
  {
   "cell_type": "markdown",
   "metadata": {},
   "source": [
    "### Imports"
   ]
  },
  {
   "cell_type": "code",
   "execution_count": 1,
   "metadata": {},
   "outputs": [],
   "source": [
    "import pandas as pd\n",
    "import numpy as np\n",
    "from scipy import stats\n",
    "import matplotlib.pyplot as plt\n",
    "from statsmodels.stats import weightstats as stests\n",
    "from scipy.stats import ttest_1samp\n",
    "import seaborn as sns\n",
    "import math\n",
    "sns.set()\n",
    "np.set_printoptions(formatter={'float': lambda x: '%.3f' % x})"
   ]
  },
  {
   "cell_type": "markdown",
   "metadata": {},
   "source": [
    "### Functions"
   ]
  },
  {
   "cell_type": "code",
   "execution_count": 2,
   "metadata": {},
   "outputs": [],
   "source": [
    "#ECDF function\n",
    "def ecdf(data):\n",
    "    \"\"\"Compute ECDF for a one-dimensional array of measurements.\"\"\"\n",
    "    # Number of data points: n\n",
    "    n = len(data)\n",
    "\n",
    "    # x-data for the ECDF: x\n",
    "    x = np.sort(data)\n",
    "\n",
    "    # y-data for the ECDF: y\n",
    "    y= np.arange(1, n+1)/ n\n",
    "\n",
    "    return x, y\n",
    "\n",
    "#Bootstrap functions that creates replicates for n size of sample\n",
    "\n",
    "#MAIN function:takes in a number of samples plus data & Function\n",
    "def draw_bs_reps(data, func, size=1):\n",
    "    \"\"\"Draw bootstrap replicates.\"\"\"\n",
    "\n",
    "    # Initialize array of replicates: bs_replicates\n",
    "    bs_replicates = np.empty(size)\n",
    "\n",
    "    # Generate replicates\n",
    "    for i in range(size):\n",
    "        bs_replicates[i] = bootstrap_replicate_1d(data,func)\n",
    "\n",
    "    return bs_replicates\n",
    "\n",
    "#function to convert data to a sample\n",
    "def bootstrap_replicate_1d(data,func):\n",
    "    \"\"\"Generate bootstrap replicate of 1d data\"\"\"\n",
    "    bs_sample= np.random.choice(data, len(data))\n",
    "    return func(bs_sample)"
   ]
  },
  {
   "cell_type": "markdown",
   "metadata": {},
   "source": [
    "### Brief EDA"
   ]
  },
  {
   "cell_type": "code",
   "execution_count": 3,
   "metadata": {},
   "outputs": [
    {
     "data": {
      "text/plain": [
       "(4870, 65)"
      ]
     },
     "execution_count": 3,
     "metadata": {},
     "output_type": "execute_result"
    }
   ],
   "source": [
    "data = pd.io.stata.read_stata('data/us_job_market_discrimination.dta')\n",
    "data.shape\n"
   ]
  },
  {
   "cell_type": "code",
   "execution_count": 4,
   "metadata": {},
   "outputs": [
    {
     "data": {
      "text/html": [
       "<div>\n",
       "<style scoped>\n",
       "    .dataframe tbody tr th:only-of-type {\n",
       "        vertical-align: middle;\n",
       "    }\n",
       "\n",
       "    .dataframe tbody tr th {\n",
       "        vertical-align: top;\n",
       "    }\n",
       "\n",
       "    .dataframe thead th {\n",
       "        text-align: right;\n",
       "    }\n",
       "</style>\n",
       "<table border=\"1\" class=\"dataframe\">\n",
       "  <thead>\n",
       "    <tr style=\"text-align: right;\">\n",
       "      <th></th>\n",
       "      <th>id</th>\n",
       "      <th>ad</th>\n",
       "      <th>education</th>\n",
       "      <th>ofjobs</th>\n",
       "      <th>yearsexp</th>\n",
       "      <th>honors</th>\n",
       "      <th>volunteer</th>\n",
       "      <th>military</th>\n",
       "      <th>empholes</th>\n",
       "      <th>occupspecific</th>\n",
       "      <th>...</th>\n",
       "      <th>compreq</th>\n",
       "      <th>orgreq</th>\n",
       "      <th>manuf</th>\n",
       "      <th>transcom</th>\n",
       "      <th>bankreal</th>\n",
       "      <th>trade</th>\n",
       "      <th>busservice</th>\n",
       "      <th>othservice</th>\n",
       "      <th>missind</th>\n",
       "      <th>ownership</th>\n",
       "    </tr>\n",
       "  </thead>\n",
       "  <tbody>\n",
       "    <tr>\n",
       "      <th>0</th>\n",
       "      <td>b</td>\n",
       "      <td>1</td>\n",
       "      <td>4</td>\n",
       "      <td>2</td>\n",
       "      <td>6</td>\n",
       "      <td>0</td>\n",
       "      <td>0</td>\n",
       "      <td>0</td>\n",
       "      <td>1</td>\n",
       "      <td>17</td>\n",
       "      <td>...</td>\n",
       "      <td>1.0</td>\n",
       "      <td>0.0</td>\n",
       "      <td>1.0</td>\n",
       "      <td>0.0</td>\n",
       "      <td>0.0</td>\n",
       "      <td>0.0</td>\n",
       "      <td>0.0</td>\n",
       "      <td>0.0</td>\n",
       "      <td>0.0</td>\n",
       "      <td></td>\n",
       "    </tr>\n",
       "    <tr>\n",
       "      <th>1</th>\n",
       "      <td>b</td>\n",
       "      <td>1</td>\n",
       "      <td>3</td>\n",
       "      <td>3</td>\n",
       "      <td>6</td>\n",
       "      <td>0</td>\n",
       "      <td>1</td>\n",
       "      <td>1</td>\n",
       "      <td>0</td>\n",
       "      <td>316</td>\n",
       "      <td>...</td>\n",
       "      <td>1.0</td>\n",
       "      <td>0.0</td>\n",
       "      <td>1.0</td>\n",
       "      <td>0.0</td>\n",
       "      <td>0.0</td>\n",
       "      <td>0.0</td>\n",
       "      <td>0.0</td>\n",
       "      <td>0.0</td>\n",
       "      <td>0.0</td>\n",
       "      <td></td>\n",
       "    </tr>\n",
       "    <tr>\n",
       "      <th>2</th>\n",
       "      <td>b</td>\n",
       "      <td>1</td>\n",
       "      <td>4</td>\n",
       "      <td>1</td>\n",
       "      <td>6</td>\n",
       "      <td>0</td>\n",
       "      <td>0</td>\n",
       "      <td>0</td>\n",
       "      <td>0</td>\n",
       "      <td>19</td>\n",
       "      <td>...</td>\n",
       "      <td>1.0</td>\n",
       "      <td>0.0</td>\n",
       "      <td>1.0</td>\n",
       "      <td>0.0</td>\n",
       "      <td>0.0</td>\n",
       "      <td>0.0</td>\n",
       "      <td>0.0</td>\n",
       "      <td>0.0</td>\n",
       "      <td>0.0</td>\n",
       "      <td></td>\n",
       "    </tr>\n",
       "    <tr>\n",
       "      <th>3</th>\n",
       "      <td>b</td>\n",
       "      <td>1</td>\n",
       "      <td>3</td>\n",
       "      <td>4</td>\n",
       "      <td>6</td>\n",
       "      <td>0</td>\n",
       "      <td>1</td>\n",
       "      <td>0</td>\n",
       "      <td>1</td>\n",
       "      <td>313</td>\n",
       "      <td>...</td>\n",
       "      <td>1.0</td>\n",
       "      <td>0.0</td>\n",
       "      <td>1.0</td>\n",
       "      <td>0.0</td>\n",
       "      <td>0.0</td>\n",
       "      <td>0.0</td>\n",
       "      <td>0.0</td>\n",
       "      <td>0.0</td>\n",
       "      <td>0.0</td>\n",
       "      <td></td>\n",
       "    </tr>\n",
       "    <tr>\n",
       "      <th>4</th>\n",
       "      <td>b</td>\n",
       "      <td>1</td>\n",
       "      <td>3</td>\n",
       "      <td>3</td>\n",
       "      <td>22</td>\n",
       "      <td>0</td>\n",
       "      <td>0</td>\n",
       "      <td>0</td>\n",
       "      <td>0</td>\n",
       "      <td>313</td>\n",
       "      <td>...</td>\n",
       "      <td>1.0</td>\n",
       "      <td>1.0</td>\n",
       "      <td>0.0</td>\n",
       "      <td>0.0</td>\n",
       "      <td>0.0</td>\n",
       "      <td>0.0</td>\n",
       "      <td>0.0</td>\n",
       "      <td>1.0</td>\n",
       "      <td>0.0</td>\n",
       "      <td>Nonprofit</td>\n",
       "    </tr>\n",
       "  </tbody>\n",
       "</table>\n",
       "<p>5 rows × 65 columns</p>\n",
       "</div>"
      ],
      "text/plain": [
       "  id ad  education  ofjobs  yearsexp  honors  volunteer  military  empholes  \\\n",
       "0  b  1          4       2         6       0          0         0         1   \n",
       "1  b  1          3       3         6       0          1         1         0   \n",
       "2  b  1          4       1         6       0          0         0         0   \n",
       "3  b  1          3       4         6       0          1         0         1   \n",
       "4  b  1          3       3        22       0          0         0         0   \n",
       "\n",
       "   occupspecific    ...      compreq  orgreq  manuf  transcom  bankreal trade  \\\n",
       "0             17    ...          1.0     0.0    1.0       0.0       0.0   0.0   \n",
       "1            316    ...          1.0     0.0    1.0       0.0       0.0   0.0   \n",
       "2             19    ...          1.0     0.0    1.0       0.0       0.0   0.0   \n",
       "3            313    ...          1.0     0.0    1.0       0.0       0.0   0.0   \n",
       "4            313    ...          1.0     1.0    0.0       0.0       0.0   0.0   \n",
       "\n",
       "  busservice othservice  missind  ownership  \n",
       "0        0.0        0.0      0.0             \n",
       "1        0.0        0.0      0.0             \n",
       "2        0.0        0.0      0.0             \n",
       "3        0.0        0.0      0.0             \n",
       "4        0.0        1.0      0.0  Nonprofit  \n",
       "\n",
       "[5 rows x 65 columns]"
      ]
     },
     "execution_count": 4,
     "metadata": {},
     "output_type": "execute_result"
    }
   ],
   "source": [
    "data.head()"
   ]
  },
  {
   "cell_type": "code",
   "execution_count": 5,
   "metadata": {},
   "outputs": [
    {
     "data": {
      "text/plain": [
       "157.0"
      ]
     },
     "execution_count": 5,
     "metadata": {},
     "output_type": "execute_result"
    }
   ],
   "source": [
    "# number of callbacks for black-sounding names\n",
    "b_sum= sum(data[data.race=='b'].call)\n",
    "b_sum"
   ]
  },
  {
   "cell_type": "code",
   "execution_count": 6,
   "metadata": {},
   "outputs": [
    {
     "data": {
      "text/plain": [
       "235.0"
      ]
     },
     "execution_count": 6,
     "metadata": {},
     "output_type": "execute_result"
    }
   ],
   "source": [
    "#number of callbacks for white-sounding names\n",
    "w_sum= sum(data[data.race=='w'].call)\n",
    "w_sum"
   ]
  },
  {
   "cell_type": "code",
   "execution_count": 7,
   "metadata": {},
   "outputs": [],
   "source": [
    "#separating out the dataframes\n",
    "w = data[data.race=='w']\n",
    "b = data[data.race=='b']"
   ]
  },
  {
   "cell_type": "code",
   "execution_count": 8,
   "metadata": {},
   "outputs": [
    {
     "name": "stdout",
     "output_type": "stream",
     "text": [
      "Average call back rate\n",
      "white: 0.09650924056768417 , black: 0.0644763857126236\n"
     ]
    }
   ],
   "source": [
    "#Means/probability of call backs\n",
    "w_mu= w.call.mean()\n",
    "b_mu = b.call.mean()\n",
    "print (\"Average call back rate\")\n",
    "print (f\"white: {w_mu} , black: {b_mu}\")"
   ]
  },
  {
   "cell_type": "code",
   "execution_count": 9,
   "metadata": {},
   "outputs": [],
   "source": [
    "#Change the pandas series into an array for my functions will work\n",
    "w_ary = w[\"call\"].values\n",
    "b_ary = b[\"call\"].values"
   ]
  },
  {
   "cell_type": "code",
   "execution_count": 10,
   "metadata": {},
   "outputs": [
    {
     "data": {
      "text/plain": [
       "<function matplotlib.pyplot.show(*args, **kw)>"
      ]
     },
     "execution_count": 10,
     "metadata": {},
     "output_type": "execute_result"
    },
    {
     "data": {
      "image/png": "[encoded data removed]",
      "text/plain": [
       "<Figure size 432x288 with 1 Axes>"
      ]
     },
     "metadata": {
      "needs_background": "light"
     },
     "output_type": "display_data"
    }
   ],
   "source": [
    "#Visualizing data\n",
    "\n",
    "#Subsetting the df\n",
    "call_backs = data[data.call == 1.0]\n",
    "\n",
    "#Creating a color palette\n",
    "my_pal = {\"w\": \"r\", \"b\": \"k\"}\n",
    "\n",
    "#plotting\n",
    "sns.countplot(x= \"call\", hue= \"race\", data= call_backs, palette= my_pal)\n",
    "plt.title(\"Call backs Per Race\")\n",
    "plt.tick_params(axis='x', which='both', bottom=False, top=False, labelbottom=False)\n",
    "plt.xlabel(\"Call Backs\")\n",
    "plt.ylabel(\"Frequency\")\n",
    "plt.show"
   ]
  },
  {
   "cell_type": "code",
   "execution_count": 11,
   "metadata": {},
   "outputs": [
    {
     "data": {
      "image/png": "[encoded data removed]",
      "text/plain": [
       "<Figure size 432x288 with 1 Axes>"
      ]
     },
     "metadata": {
      "needs_background": "light"
     },
     "output_type": "display_data"
    }
   ],
   "source": [
    "#Show a histogram of body temps\n",
    "x= plt.hist(data[\"call\"], bins=40)#tried different size bins (15,20,40,50) to get a better picture\n",
    "x= plt.xlabel(\"Callbacks\")\n",
    "x= plt.ylabel(\"Frequency\")\n",
    "plt.show()"
   ]
  },
  {
   "cell_type": "code",
   "execution_count": 12,
   "metadata": {},
   "outputs": [
    {
     "data": {
      "image/png": "[encoded data removed]",
      "text/plain": [
       "<Figure size 432x288 with 1 Axes>"
      ]
     },
     "metadata": {
      "needs_background": "light"
     },
     "output_type": "display_data"
    }
   ],
   "source": [
    "# Comparing the calls to a normal distribution:\n",
    "mu= np.mean(data[\"call\"])\n",
    "sigma= np.std(data[\"call\"])\n",
    "\n",
    "#Compute the ECDF \n",
    "x, y = ecdf(data[\"call\"]) #ecdf function listed in the beginning\n",
    "\n",
    "# Create a normal distribution with the current temperature's mu and sigma\n",
    "normal= np.random.normal(mu, sigma, size =100000)\n",
    "\n",
    "# Get the CDF of the samples and of the data\n",
    "x_theor, y_theor= ecdf(normal) #ecdf function listed in the begginning\n",
    "\n",
    "# Plot the CDFs and show the plot\n",
    "_ = plt.plot(x_theor, y_theor)\n",
    "_ = plt.plot(x, y, marker='.', linestyle='none')\n",
    "_ = plt.xlabel('Calls')\n",
    "_ = plt.ylabel('CDF')\n",
    "plt.margins(.02) #keeps data off graph edges\n",
    "plt.title (\"ECDF Callback Rates\")\n",
    "plt.legend(('Normal Dist', 'Sample Call Backs',), loc='lower right')\n",
    "\n",
    "plt.show()"
   ]
  },
  {
   "cell_type": "markdown",
   "metadata": {
    "collapsed": true
   },
   "source": [
    "### Bootstrap Two-Sample Test"
   ]
  },
  {
   "cell_type": "code",
   "execution_count": 18,
   "metadata": {},
   "outputs": [
    {
     "name": "stdout",
     "output_type": "stream",
     "text": [
      "[0.010 -0.008 0.005 ... 0.010 0.003 0.006]\n",
      "P-value = 0.00000\n",
      "We reject the null hypothesis\n",
      "The margin of error = [0.007]\n",
      "The 95% confidence interval = [0.073 0.088]\n"
     ]
    }
   ],
   "source": [
    "#First, find the combined mean\n",
    "combined_mean = np.mean(data.call)\n",
    "\n",
    "#Compute the original difference of means:\n",
    "original_diff_mean = np.mean(w_mu-b_mu)\n",
    "\n",
    "# Shift each array so they reflect the combined mean\n",
    "w_shifted = w_ary - w_mu + combined_mean \n",
    "b_shifted = b_ary - b_mu + combined_mean\n",
    "\n",
    "# Compute 10,000 bootstrap replicates from shifted arrays\n",
    "bs_replicates_w = draw_bs_reps(w_shifted, np.mean, 10000)\n",
    "bs_replicates_b = draw_bs_reps(b_shifted, np.mean, 10000)\n",
    "\n",
    "# Get replicates of difference of means: bs_replicates\n",
    "bs_replicates = bs_replicates_w - bs_replicates_b\n",
    "\n",
    "print (bs_replicates)\n",
    "\n",
    "# Compute and print p-value: p\n",
    "p = np.sum(bs_replicates >= original_diff_mean) / len(bs_replicates) \n",
    "\n",
    "print(f'P-value = {p:.5f}')\n",
    "if p < 0.05:    # alpha value is 0.05 or 5%\n",
    "    print(\"We reject the null hypothesis\")\n",
    "else:\n",
    "    print(\"We accept the null hypothesis\")\n",
    "\n",
    "#create a bootstrap test for the combined data to compute the confidence interval\n",
    "bs_replicates_all = draw_bs_reps(data.call,np.mean, size=10000)\n",
    "\n",
    "# Compute the 95% confidence interval: conf_int\n",
    "conf_int = np.percentile(bs_replicates_all, [2.5, 97.5])\n",
    "\n",
    "# Print the confidence interval & margin of error\n",
    "print(f\"The margin of error = {combined_mean - conf_int[:1]}\")\n",
    "print(f'The 95% confidence interval = {conf_int}')"
   ]
  },
  {
   "cell_type": "markdown",
   "metadata": {},
   "source": [
    "### Frequentist Two-Sample Test"
   ]
  },
  {
   "cell_type": "code",
   "execution_count": 14,
   "metadata": {},
   "outputs": [
    {
     "name": "stdout",
     "output_type": "stream",
     "text": [
      "P-value:0.00004\n",
      "We reject the null hypothesis\n",
      "The margin of error = 0.0076408686955078\n",
      "The 95% confidence interval = [0.07285194816993638, 0.08813368556095198]\n"
     ]
    }
   ],
   "source": [
    "#z-test \n",
    "ztest ,pval = stests.ztest(w_ary, x2=b_ary, value=0,alternative='two-sided')\n",
    "\n",
    "#results\n",
    "print(f\"P-value:{pval:.5f}\")\n",
    "if pval < 0.05:    # alpha value is 0.05 or 5%\n",
    "    print(\"We reject the null hypothesis\")\n",
    "else:\n",
    "    print(\"We accept the null hypothesis\")\n",
    "    \n",
    "# Compute mean and standard deviation of the current sample: mu, sigma\n",
    "n= len(data.call)\n",
    "sd = np.std(data.call)\n",
    "z= 1.96 #95% confidence interval\n",
    "\n",
    "#Compute the 95% confidence interval\n",
    "margin_er = z * (sd/math.sqrt(n))\n",
    "\n",
    "# Print the confidence interval & margin of error\n",
    "print(f\"The margin of error = {margin_er}\")\n",
    "print(f'The 95% confidence interval = [{combined_mean- margin_er}, {combined_mean + margin_er}]')"
   ]
  },
  {
   "cell_type": "markdown",
   "metadata": {},
   "source": [
    "### Conclusions\n",
    "\n",
    "* *Both the frequentist and the bootstrap test rejected the null hypothesis that black & white sounding names have the same mean callback rates. Thus, the probability that these two are different due to chance is low enough that we can conclude that the callback rates in white versus black names are in fact different.*\n",
    "* *Just because there is a significant difference between white & black sounding names callback rates, this doesn’t conclude that is why they are different. It could be because there is a difference educational background, or experience.*\n",
    "* *You would need to build a classification model to investigate the differences between other features to try to decipher where the difference in callback rates originated from*\n"
   ]
  },
  {
   "cell_type": "code",
   "execution_count": null,
   "metadata": {},
   "outputs": [],
   "source": []
  },
  {
   "cell_type": "code",
   "execution_count": null,
   "metadata": {},
   "outputs": [],
   "source": []
  }
 ],
 "metadata": {
  "kernelspec": {
   "display_name": "Python 3",
   "language": "python",
   "name": "python3"
  },
  "language_info": {
   "codemirror_mode": {
    "name": "ipython",
    "version": 3
   },
   "file_extension": ".py",
   "mimetype": "text/x-python",
   "name": "python",
   "nbconvert_exporter": "python",
   "pygments_lexer": "ipython3",
   "version": "3.7.1"
  }
 },
 "nbformat": 4,
 "nbformat_minor": 1
}
